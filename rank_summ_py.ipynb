{
  "cells": [
    {
      "cell_type": "markdown",
      "metadata": {
        "id": "Fz1iSVDkl6kG"
      },
      "source": [
        "## Text summarization (Senetnce Ranking)\n",
        "\n",
        "#### STEP 1 : Data cleaning ( removing non letter characters, turning to lower case letters )\n",
        "#### STEP 2 : Building Sentence Similarity Matrix\n",
        "#### STEP 3 : Sentence Ranking\n",
        "#### STEP 4 : Summary Generation"
      ]
    },
    {
      "cell_type": "markdown",
      "metadata": {
        "id": "RBeKAAC2l6kN"
      },
      "source": [
        "## Initial Phase\n",
        "### Importing Libraries and Reading Data"
      ]
    },
    {
      "cell_type": "code",
      "execution_count": 1,
      "metadata": {
        "id": "sJH0tA0Ml6kP"
      },
      "outputs": [],
      "source": [
        "from nltk.corpus import stopwords\n",
        "from nltk.cluster.util import cosine_distance\n",
        "import numpy as np\n",
        "import pandas as pd\n",
        "import nltk\n",
        "import re\n",
        "from nltk.corpus import stopwords\n",
        "import networkx as nx\n",
        "from nltk.tokenize import  sent_tokenize"
      ]
    },
    {
      "cell_type": "code",
      "execution_count": 2,
      "metadata": {
        "colab": {
          "base_uri": "https://localhost:8080/"
        },
        "id": "I1eWMooQl6kS",
        "outputId": "79ac483c-d02c-4159-c6ad-680d38059a80"
      },
      "outputs": [
        {
          "output_type": "execute_result",
          "data": {
            "text/plain": [
              "0    Maria Sharapova has basically no friends as te...\n",
              "1    BASEL, Switzerland (AP), Roger Federer advance...\n",
              "2    Roger Federer has revealed that organisers of ...\n",
              "3    Kei Nishikori will try to end his long losing ...\n",
              "4    Federer, 37, first broke through on tour over ...\n",
              "5    Nadal has not played tennis since he was force...\n",
              "6    Tennis giveth, and tennis taketh away. The end...\n",
              "7    Federer won the Swiss Indoors last week by bea...\n",
              "Name: article_text, dtype: object"
            ]
          },
          "metadata": {},
          "execution_count": 2
        }
      ],
      "source": [
        "df = pd.read_csv('tennis_articles_v4.csv')\n",
        "df['article_text']"
      ]
    },
    {
      "cell_type": "code",
      "execution_count": 3,
      "metadata": {
        "id": "nfK9EXmHl6kU"
      },
      "outputs": [],
      "source": [
        "import re\n",
        "s = 'he&&&s'\n",
        "s = re.sub(\"[^a-zA-Z]\",\" \",s)"
      ]
    },
    {
      "cell_type": "markdown",
      "metadata": {
        "id": "PBeWfgvLl6kX"
      },
      "source": [
        "## STEP 1 : Data Cleaning\n",
        "### Cleaning sentences, by removing Non Alphabet Characters and converting to Lower Case Letters"
      ]
    },
    {
      "cell_type": "code",
      "execution_count": 4,
      "metadata": {
        "id": "a_9Mp8yJl6kZ"
      },
      "outputs": [],
      "source": [
        "dict = {}\n",
        "s = \"\"\n",
        "for a in df['article_text']:\n",
        "      s += a\n",
        "\n",
        "s = s.lower()\n",
        "sentences = sent_tokenize(s)\n",
        "final = []\n",
        "\n",
        "for s in sentences:\n",
        "      temp = re.sub(\"[^a-zA-Z]\",\" \",s)\n",
        "      temp = temp.lower()\n",
        "      final.append(temp)\n",
        "      dict[temp] = s"
      ]
    },
    {
      "cell_type": "markdown",
      "metadata": {
        "id": "cKdVyqIAl6ka"
      },
      "source": [
        "## STEP 2 : Building Senetnce Similarity Matrix\n",
        "### Similarity is found using Cosine Similarity between vector representation of sentences"
      ]
    },
    {
      "cell_type": "code",
      "execution_count": 5,
      "metadata": {
        "id": "rl4nJfRel6kd"
      },
      "outputs": [],
      "source": [
        "def sentence_similarity(sent1, sent2, stopwords=None):\n",
        "    if stopwords is None:\n",
        "        stopwords = []\n",
        "\n",
        "    sent1 = [w.lower() for w in sent1]\n",
        "    sent2 = [w.lower() for w in sent2]\n",
        "\n",
        "    all_words = list(set(sent1 + sent2))\n",
        "\n",
        "    vector1 = [0] * len(all_words)\n",
        "    vector2 = [0] * len(all_words)\n",
        "\n",
        "    # build the vector for the first sentence\n",
        "    for w in sent1:\n",
        "        if w in stopwords:\n",
        "            continue\n",
        "        vector1[all_words.index(w)] += 1\n",
        "\n",
        "    # build the vector for the second sentence\n",
        "    for w in sent2:\n",
        "        if w in stopwords:\n",
        "            continue\n",
        "        vector2[all_words.index(w)] += 1\n",
        "\n",
        "    return 1 - cosine_distance(vector1, vector2)\n",
        "\n",
        "def build_similarity_matrix(sentences, stop_words):\n",
        "    # Create an empty similarity matrix\n",
        "    similarity_matrix = np.zeros((len(sentences), len(sentences)))\n",
        "\n",
        "    for idx1 in range(len(sentences)):\n",
        "        for idx2 in range(len(sentences)):\n",
        "            if idx1 == idx2: #ignore if both are same sentences\n",
        "                continue\n",
        "            similarity_matrix[idx1][idx2] = sentence_similarity(sentences[idx1], sentences[idx2], stop_words)\n",
        "    return similarity_matrix"
      ]
    },
    {
      "cell_type": "markdown",
      "metadata": {
        "id": "c56UkXi1l6kg"
      },
      "source": [
        "## STEP 3 : Sentence Ranking\n",
        "### Sentences are ranked using PageRank Algorithm on the Graph generated from the Sentence Similarity Matrix"
      ]
    },
    {
      "cell_type": "code",
      "execution_count": 6,
      "metadata": {
        "colab": {
          "base_uri": "https://localhost:8080/"
        },
        "id": "30fBzY-4l6kh",
        "outputId": "2975e300-6be7-427f-ee12-5fe6660492d6"
      },
      "outputs": [
        {
          "output_type": "stream",
          "name": "stdout",
          "text": [
            "Indexes of top ranked_sentence order are  [(0.009324689801439471, 'argentina and britain received wild cards to the new look event  and will compete along with the four      semi finalists and the    teams who win qualifying rounds next february '), (0.009320168305270129, 'the competition is set to feature    countries in the november       finals in madrid next year  and will replace the classic home and away ties played four times per year for decades '), (0.009317507906421309, ' nadal has not played tennis since he was forced to retire from the us open semi finals against juan martin del porto with a knee injury '), (0.009314905907429172, ' not always  but i really feel like in the mid      years there was a huge shift of the attitudes of the top players and being more friendly and being more giving  and a lot of that had to do with players like roger coming up '), (0.00930520140708298, 'but with the atp world tour finals due to begin next month  nadal is ready to prove his fitness before the season ending event at the    arena '), (0.009304024877030775, 'seeking a ninth title at his hometown event  and a   th overall  federer will play   th ranked marius copil on sunday '), (0.009303099468356646, 'the russian player has no problems in openly speaking about it and in a recent interview she said   i don t really hide any feelings too much '), (0.009294417870854879, 'nishikori leads anderson     on career matchups  but the south african won their only previous meeting this year '), (0.00928466285767099, 'the    time grand slam champion has voiced doubts about the wisdom of the one week format to be introduced by organisers kosmos  who have promised the international tennis federation up to    billion in prize money over the next quarter century '), (0.009275794283914608, 'speaking at the swiss indoors tournament where he will play in sundays final against romanian qualifier marius copil  the world number three said that given the impossibly short time frame to make a decision  he opted out of any commitment '), (0.00927480788171433, 'davenport enjoyed most of her success in the late     s and her third and final major tournament win came at the      australian open '), (0.009269816601941575, ' i don t like being under that kind of pressure   federer said of the deadline kosmos handed him kei nishikori will try to end his long losing streak in atp finals and kevin anderson will go for his second title of the year at the erste bank open on sunday '), (0.009258836096477088, 'federer is in action at the swiss indoors in basel and if he reaches the final  he could pull out of paris in a bid to stay fresh for london '), (0.009255968905702598, 'he came through two rounds of qualifying last weekend to reach the basel main draw  including beating zverev s older brother  mischa '), (0.009254675394300043, 'the    time grand slam winner is chasing his   th atp title at the swiss indoors this week and he faces jan lennard struff in the second round on thursday   pm bst  '), (0.009251880605969678, 'and he was delighted to be watched on by all of his family and friends as he purchased    tickets for the final for those dearest to him '), (0.009250627040199978, 'the spaniard broke anderson twice in the second but didn t get another chance on the south african s serve in the final set federer      first broke through on tour over two decades ago and he has since gone on to enjoy a glittering career '), (0.009242948308320549, 'i think just because you re in the same sport doesn t mean that you have to be friends with everyone just because you re categorized  you re a tennis player  so you re going to get along with tennis players '), (0.009238871886804115, 'novak djokovic has said he will give precedence to the atp s intended re launch of the defunct world team cup in january       at various australian venues '), (0.009235284984113325, 'when i m on the courts or when i m on the court playing  i m a competitor and i want to beat every single person whether they re in the locker room or across the net so i m not the one to strike up a conversation about the weather and know that in the next few minutes i have to go and try to win a tennis match '), (0.009227406598633015, ' clearly you make your life more difficult  but still i was up           break points  so things could have ended very quickly today  even though i didn t have the best serve percentage stats '), (0.009222115455371972, ' on tuesday i will fly to paris and train in the afternoon to be ready for my first match on wednesday night '), (0.00922161120102157, ' there are very touching moments  seeing the ball children  the standing ovations  all the familiar faces in the audience '), (0.00921677445476756, 'british no   kyle edmund is the   th seed in paris and will get underway in round two against either karen khachanov or filip krajinovic tennis giveth  and tennis taketh away '), (0.00921401177765314, 'nina and irina give their opinions on what coaching should look like in the future  on both tours         federer won the swiss indoors last week by beating romanian qualifier marius copil in the final '), (0.009209897349070342, 'but first the    time grand slam winner wants to train on the paris masters court this afternoon before deciding whether to appear for his opening match against either milos raonic or jo wilfried tsonga '), (0.00920952339495919, 'but as it stands  federer is in the draw and is scheduled to face either former world no   milos raonic or jo wilfried tsonga in the second round '), (0.009208612000408428, 'federer said earlier this month in shanghai in that his chances of playing the davis cup were all but non existent '), (0.009202051678317091, ' i felt like the best weeks that i had to get to know players when i was playing were the fed cup weeks or the olympic weeks  not necessarily during the tournaments '), (0.009198835713999992, 'he used his first break point to close out the first set before going up     in the second and wrapping up the win on his first match point '), (0.009190924654169498, 'in singapore  one of the biggest storylines  aside from the matches  of course  has been the on court coaching debate '), (0.009186093367374037, ' basel  switzerland  ap   roger federer advanced to the   th swiss indoors final of his career by beating seventh seeded daniil medvedev          on saturday '), (0.009181487413186704, 'federer dominated the   th ranked medvedev and had his first match point chance to break serve again at      he then dropped his serve to love  and let another match point slip in medvedev s next service game by netting a backhand '), (0.009179133209053768, 'major players feel that a big event in late november combined with one in january before the australian open will mean too much tennis and too little rest '), (0.009178242120420644, 'copil fired    aces past zverev and never dropped serve  clinching after       hours with a forehand volley winner to break zverev for the second time in the semifinal '), (0.009178029188946894, ' and even though maybe we had smaller teams  i still think we kept to ourselves quite a bit '), (0.009175743266354704, 'two players  stefanos tsitsipas and kyle edmund  won their first career atp titles last week         '), (0.009172395330248476, 'federer had an easier time than in his only previous match against medvedev  a three setter at shanghai two weeks ago roger federer has revealed that organisers of the re launched and condensed davis cup gave him three days to decide if he would commit to the controversial competition '), (0.00915003115465437, ' it seems pretty friendly right now   said davenport '), (0.009149683365794026, 'the second seeded anderson defeated fernando verdasco                anderson has a shot at a fifth career title and second of the year after winning in new york in february '), (0.009146445675304826, 'copil upset expectations of a federer final against alexander zverev in a                   win over the fifth ranked german in the earlier semifinal '), (0.00913719670180845, ' it s a very pleasant atmosphere  i d have to say  around the locker rooms '), (0.009135595291062783, 'when she said she is not really close to a lot of players  is that something strategic that she is doing '), (0.009130384105832725, 'the    year old claimed his   th atp title and is hunting the century in the french capital this week '), (0.009129603549689839, ' i just felt like it really kind of changed where people were a little bit  definitely in the   s  a lot more quiet  into themselves  and then it started to become better  '), (0.009117611856177033, 'irina looks back at her wta title win in bogota in       and tells an unforgettable story about her semifinal drama         '), (0.00911474395283753, 'the world no   has been forced to miss spain s davis cup clash with france and the asian hard court season '), (0.00911043591434954, 'he could lose       points in the next few weeks  but instead of focusing on the negative  it can all be about perspective         '), (0.009110176559532548, 'against verdasco  anderson hit nine of his    aces in the opening set '), (0.009101675791549066, 'a winner of    atp events  nishikori hasn t triumphed since winning in memphis in february       he has lost eight straight finals since '), (0.009100040676121144, 'this was designed for the future generation of players  '), (0.009094988058571965, ' on monday  i am free and will look how i feel   federer said after winning the swiss indoors '), (0.00909070767141493, 'i have friends that have completely different jobs and interests  and i ve met them in very different parts of my life '), (0.00909031094682919, ' i think there is a really nice environment and a great atmosphere  especially between some of the veteran players helping some of the younger players out '), (0.009083372148804308, 'nadal s appearance in paris is a big boost to the tournament organisers who could see roger federer withdraw '), (0.009080256378341652, 'the romanian aims for a first title after arriving at basel without a career win over a top    opponent '), (0.009066918709177092, 'i have not a lot of friends away from the courts  '), (0.009065823787305517, 'the end of the season is finally in sight  and with so many players defending or losing huge chunks of points in singapore  zhuhai and london  podcast co hosts nina pantic and irina falconi discuss the art of defending points         '), (0.009060214581653922, ' i didn t serve very well  against first round opponent filip kranjovic   federer said '), (0.00904862943698138, 'is it different on the men s tour than the women s tour '), (0.009048333334788088, 'nadal could then play defending champion jack sock in the third round before a potential quarter final with either borna coric or dominic thiem '), (0.009045556419061981, 'federer s projected route to the paris final could also lead to matches against kevin anderson and novak djokovic '), (0.009039666930953412, 'federer s success in basel last week was the ninth time he has won his hometown tournament '), (0.00903730746100882, ' i do not think this was designed for me  anyhow '), (0.009036325419124625, 'nadal flew to paris on friday and footage from the paris masters official twitter account shows the spaniard smiling as he strides onto court for practice '), (0.009034322346354746, 'it s no secret that jack sock has struggled on the singles court this year  his record is       '), (0.009027745302751895, 'but she claims the mentality of professional tennis players slowly began to change after the new millennium '), (0.009026611317506402, ' i could not make a decision in that time  so i told them to do what they wanted  '), (0.009016025807666975, 'there are so many other things that we re interested in  that we do '), (0.009001014432212299, ' it means the world to me '), (0.008997713014264554, 'currently in ninth place  nishikori with a win could move to within     points of the cut for the eight man event in london next month '), (0.008992395406825476, 'but ultimately tennis is just a very small part of what we do '), (0.008992386676666719, ' i do not know if it s maybe my last title  so today i try a lot more to absorb that and enjoy the moments much more consciously '), (0.008990351052846915, 'the fifth seeded nishikori reached his third final of      after beating mikhail kukushkin of kazakhstan          in the semifinals '), (0.00898933807523475, 'i think everyone just thinks because we re tennis players we should be the greatest of friends '), (0.008978929699652204, 'kosmos is headed by barcelona footballer gerard pique  who is hoping fellow spaniard rafael nadal will play in the upcoming event '), (0.008955069308693579, ' it is always very emotional for me to thank my team '), (0.008953828524463834, ' i didn t to have time to consult with all the people i had to consult '), (0.008951181022014065, ' maybe i should celebrate as if it were my last title '), (0.008950638708664383, 'it s a big deal because you never forget your first '), (0.00894956101678824, 'with a victory on sunday  anderson will qualify for the atp finals '), (0.008947528666174768, 'meanwhile  federer is hoping he can improve his service game as he hunts his ninth swiss indoors title this week '), (0.00891694167393207, 'this is where the first rounds can be tricky '), (0.008911897664636388, ' we also had the impression that at this stage it might be better to play matches than to train '), (0.008897281093850365, 'the paris masters draw has been made and nadal will start his campaign on tuesday or wednesday against either fernando verdasco or jeremy chardy '), (0.00889013334390982, 'i say my hellos  but i m not sending any players flowers as well '), (0.008882331192361806, ' i think i was misfiring the corners  i was not hitting the lines enough '), (0.008871393573641272, 'copil has two after also beating no '), (0.008863747969087461, 'federer has been handed a difficult draw where could could come across kevin anderson  novak djokovic and rafael nadal in the latter rounds '), (0.008862745892276043, 'let s also not forget his two grand slam doubles triumphs this season '), (0.008813326070455102, 'uhm  i m not really friendly or close to many players '), (0.008795458404019723, 'it makes me incredibly happy to win my home tournament and make people happy here '), (0.008786937414883612, 'i think everyone knows this is my job here '), (0.008786917498213994, ' my children  my parents  my sister and my team are all there   federer added '), (0.008770129579841725, ' they only left me three days to decide   federer said '), (0.00876262833065656, 'maria sharapova has basically no friends as tennis players on the wta tour '), (0.00871793609505765, 'because it was not always easy in the last weeks  '), (0.008709177439434213, ' i felt good all week and better every day '), (0.008672935432917885, '  marin cilic in the second round '), (0.008609400885219004, 'he clinched on his fourth chance when medvedev netted from the baseline '), (0.00860386193373265, 'i think every person has different interests '), (0.008575259446165962, 'we will see what happens   he said '), (0.008562505186840234, ' and as long as i fear no injury  i play  '), (0.008508636869196876, ' i highly doubt it  of course '), (0.008397017558713974, 'nishikori held serve throughout against kukushkin  who came through qualifying '), (0.00837584011500498, ' but maybe that s exactly what caught up to me eventually '), (0.008369393964817111, 'and sometimes it tilts with the emotions  sometimes i just stumble '), (0.008310080777392573, 'i m a pretty competitive girl '), (0.008131718346365646, 'djokovic could play marco cecchinato in the second round '), (0.008112945377314428, ' no  not at all '), (0.008103666047577137, 'it s just getting used to it ')]\n",
            "Summarize Text:\n",
            " argentina and britain received wild cards to the new look event  and will compete along with the four      semi finalists and the    teams who win qualifying rounds next february . the competition is set to feature    countries in the november       finals in madrid next year  and will replace the classic home and away ties played four times per year for decades .  nadal has not played tennis since he was forced to retire from the us open semi finals against juan martin del porto with a knee injury .  not always  but i really feel like in the mid      years there was a huge shift of the attitudes of the top players and being more friendly and being more giving  and a lot of that had to do with players like roger coming up . but with the atp world tour finals due to begin next month  nadal is ready to prove his fitness before the season ending event at the    arena . seeking a ninth title at his hometown event  and a   th overall  federer will play   th ranked marius copil on sunday . the russian player has no problems in openly speaking about it and in a recent interview she said   i don t really hide any feelings too much . nishikori leads anderson     on career matchups  but the south african won their only previous meeting this year . the    time grand slam champion has voiced doubts about the wisdom of the one week format to be introduced by organisers kosmos  who have promised the international tennis federation up to    billion in prize money over the next quarter century . speaking at the swiss indoors tournament where he will play in sundays final against romanian qualifier marius copil  the world number three said that given the impossibly short time frame to make a decision  he opted out of any commitment . davenport enjoyed most of her success in the late     s and her third and final major tournament win came at the      australian open .  i don t like being under that kind of pressure   federer said of the deadline kosmos handed him kei nishikori will try to end his long losing streak in atp finals and kevin anderson will go for his second title of the year at the erste bank open on sunday . federer is in action at the swiss indoors in basel and if he reaches the final  he could pull out of paris in a bid to stay fresh for london . he came through two rounds of qualifying last weekend to reach the basel main draw  including beating zverev s older brother  mischa . the    time grand slam winner is chasing his   th atp title at the swiss indoors this week and he faces jan lennard struff in the second round on thursday   pm bst  . and he was delighted to be watched on by all of his family and friends as he purchased    tickets for the final for those dearest to him . the spaniard broke anderson twice in the second but didn t get another chance on the south african s serve in the final set federer      first broke through on tour over two decades ago and he has since gone on to enjoy a glittering career . i think just because you re in the same sport doesn t mean that you have to be friends with everyone just because you re categorized  you re a tennis player  so you re going to get along with tennis players . novak djokovic has said he will give precedence to the atp s intended re launch of the defunct world team cup in january       at various australian venues . when i m on the courts or when i m on the court playing  i m a competitor and i want to beat every single person whether they re in the locker room or across the net so i m not the one to strike up a conversation about the weather and know that in the next few minutes i have to go and try to win a tennis match .  clearly you make your life more difficult  but still i was up           break points  so things could have ended very quickly today  even though i didn t have the best serve percentage stats .  on tuesday i will fly to paris and train in the afternoon to be ready for my first match on wednesday night .  there are very touching moments  seeing the ball children  the standing ovations  all the familiar faces in the audience . british no   kyle edmund is the   th seed in paris and will get underway in round two against either karen khachanov or filip krajinovic tennis giveth  and tennis taketh away . nina and irina give their opinions on what coaching should look like in the future  on both tours         federer won the swiss indoors last week by beating romanian qualifier marius copil in the final . but first the    time grand slam winner wants to train on the paris masters court this afternoon before deciding whether to appear for his opening match against either milos raonic or jo wilfried tsonga . but as it stands  federer is in the draw and is scheduled to face either former world no   milos raonic or jo wilfried tsonga in the second round . federer said earlier this month in shanghai in that his chances of playing the davis cup were all but non existent .  i felt like the best weeks that i had to get to know players when i was playing were the fed cup weeks or the olympic weeks  not necessarily during the tournaments . he used his first break point to close out the first set before going up     in the second and wrapping up the win on his first match point . in singapore  one of the biggest storylines  aside from the matches  of course  has been the on court coaching debate .  basel  switzerland  ap   roger federer advanced to the   th swiss indoors final of his career by beating seventh seeded daniil medvedev          on saturday . federer dominated the   th ranked medvedev and had his first match point chance to break serve again at      he then dropped his serve to love  and let another match point slip in medvedev s next service game by netting a backhand . major players feel that a big event in late november combined with one in january before the australian open will mean too much tennis and too little rest . copil fired    aces past zverev and never dropped serve  clinching after       hours with a forehand volley winner to break zverev for the second time in the semifinal .  and even though maybe we had smaller teams  i still think we kept to ourselves quite a bit . two players  stefanos tsitsipas and kyle edmund  won their first career atp titles last week         . federer had an easier time than in his only previous match against medvedev  a three setter at shanghai two weeks ago roger federer has revealed that organisers of the re launched and condensed davis cup gave him three days to decide if he would commit to the controversial competition .  it seems pretty friendly right now   said davenport . the second seeded anderson defeated fernando verdasco                anderson has a shot at a fifth career title and second of the year after winning in new york in february . copil upset expectations of a federer final against alexander zverev in a                   win over the fifth ranked german in the earlier semifinal .  it s a very pleasant atmosphere  i d have to say  around the locker rooms . when she said she is not really close to a lot of players  is that something strategic that she is doing . the    year old claimed his   th atp title and is hunting the century in the french capital this week .  i just felt like it really kind of changed where people were a little bit  definitely in the   s  a lot more quiet  into themselves  and then it started to become better  . irina looks back at her wta title win in bogota in       and tells an unforgettable story about her semifinal drama         . the world no   has been forced to miss spain s davis cup clash with france and the asian hard court season . he could lose       points in the next few weeks  but instead of focusing on the negative  it can all be about perspective         . against verdasco  anderson hit nine of his    aces in the opening set . a winner of    atp events  nishikori hasn t triumphed since winning in memphis in february       he has lost eight straight finals since . this was designed for the future generation of players  .  on monday  i am free and will look how i feel   federer said after winning the swiss indoors . i have friends that have completely different jobs and interests  and i ve met them in very different parts of my life .  i think there is a really nice environment and a great atmosphere  especially between some of the veteran players helping some of the younger players out . nadal s appearance in paris is a big boost to the tournament organisers who could see roger federer withdraw . the romanian aims for a first title after arriving at basel without a career win over a top    opponent . i have not a lot of friends away from the courts  . the end of the season is finally in sight  and with so many players defending or losing huge chunks of points in singapore  zhuhai and london  podcast co hosts nina pantic and irina falconi discuss the art of defending points         .  i didn t serve very well  against first round opponent filip kranjovic   federer said . is it different on the men s tour than the women s tour . nadal could then play defending champion jack sock in the third round before a potential quarter final with either borna coric or dominic thiem . federer s projected route to the paris final could also lead to matches against kevin anderson and novak djokovic . federer s success in basel last week was the ninth time he has won his hometown tournament .  i do not think this was designed for me  anyhow . nadal flew to paris on friday and footage from the paris masters official twitter account shows the spaniard smiling as he strides onto court for practice . it s no secret that jack sock has struggled on the singles court this year  his record is       . but she claims the mentality of professional tennis players slowly began to change after the new millennium .  i could not make a decision in that time  so i told them to do what they wanted  . there are so many other things that we re interested in  that we do .  it means the world to me . currently in ninth place  nishikori with a win could move to within     points of the cut for the eight man event in london next month . but ultimately tennis is just a very small part of what we do .  i do not know if it s maybe my last title  so today i try a lot more to absorb that and enjoy the moments much more consciously . the fifth seeded nishikori reached his third final of      after beating mikhail kukushkin of kazakhstan          in the semifinals . i think everyone just thinks because we re tennis players we should be the greatest of friends . kosmos is headed by barcelona footballer gerard pique  who is hoping fellow spaniard rafael nadal will play in the upcoming event .  it is always very emotional for me to thank my team .  i didn t to have time to consult with all the people i had to consult .  maybe i should celebrate as if it were my last title . it s a big deal because you never forget your first . with a victory on sunday  anderson will qualify for the atp finals . meanwhile  federer is hoping he can improve his service game as he hunts his ninth swiss indoors title this week . this is where the first rounds can be tricky .  we also had the impression that at this stage it might be better to play matches than to train . the paris masters draw has been made and nadal will start his campaign on tuesday or wednesday against either fernando verdasco or jeremy chardy . i say my hellos  but i m not sending any players flowers as well .  i think i was misfiring the corners  i was not hitting the lines enough . copil has two after also beating no . federer has been handed a difficult draw where could could come across kevin anderson  novak djokovic and rafael nadal in the latter rounds . let s also not forget his two grand slam doubles triumphs this season . uhm  i m not really friendly or close to many players . it makes me incredibly happy to win my home tournament and make people happy here . i think everyone knows this is my job here .  my children  my parents  my sister and my team are all there   federer added .  they only left me three days to decide   federer said . maria sharapova has basically no friends as tennis players on the wta tour . because it was not always easy in the last weeks  .  i felt good all week and better every day .   marin cilic in the second round . he clinched on his fourth chance when medvedev netted from the baseline . i think every person has different interests . we will see what happens   he said .  and as long as i fear no injury  i play  .  i highly doubt it  of course . nishikori held serve throughout against kukushkin  who came through qualifying .  but maybe that s exactly what caught up to me eventually . and sometimes it tilts with the emotions  sometimes i just stumble . i m a pretty competitive girl . djokovic could play marco cecchinato in the second round .  no  not at all . it s just getting used to it \n"
          ]
        }
      ],
      "source": [
        "# Step 2 - Generate Similary Martix across sentences\n",
        "sentence_similarity_martix = build_similarity_matrix(final, '')\n",
        "\n",
        "# Step 3 - Rank sentences in similarity martix\n",
        "sentence_similarity_graph = nx.from_numpy_array(sentence_similarity_martix)\n",
        "scores = nx.pagerank(sentence_similarity_graph)\n",
        "\n",
        "# Step 4 - Sort the rank and pick top sentences\n",
        "ranked_sentence = sorted(((scores[i],s) for i,s in enumerate(final)), reverse=True)\n",
        "print(\"Indexes of top ranked_sentence order are \", ranked_sentence)\n",
        "\n",
        "# Step 5 - Of course, output the summarized text\n",
        "summarized_sentences = [sentence for importance, sentence in ranked_sentence]\n",
        "summarize_text = \". \".join(summarized_sentences)\n",
        "print('Summarize Text:\\n', summarize_text)"
      ]
    },
    {
      "cell_type": "markdown",
      "metadata": {
        "id": "MwS-7Nocl6ki"
      },
      "source": [
        "## STEP 4 : Summary Generation\n",
        "### Summary is outputted as the top 10 ranked sentences"
      ]
    },
    {
      "cell_type": "code",
      "execution_count": 7,
      "metadata": {
        "id": "8-hdZpD7l6ki",
        "colab": {
          "base_uri": "https://localhost:8080/"
        },
        "outputId": "9f26a595-a288-4685-e60f-4c03d6c65a0f"
      },
      "outputs": [
        {
          "output_type": "stream",
          "name": "stdout",
          "text": [
            "argentina and britain received wild cards to the new-look event, and will compete along with the four 2018 semi-finalists and the 12 teams who win qualifying rounds next february.\n",
            "Summarize Text:\n",
            " a r g e n t i n a   a n d   b r i t a i n   r e c e i v e d   w i l d   c a r d s   t o   t h e   n e w   l o o k   e v e n t     a n d   w i l l   c o m p e t e   a l o n g   w i t h   t h e   f o u r             s e m i   f i n a l i s t s   a n d   t h e         t e a m s   w h o   w i n   q u a l i f y i n g   r o u n d s   n e x t   f e b r u a r y  . t h e   c o m p e t i t i o n   i s   s e t   t o   f e a t u r e         c o u n t r i e s   i n   t h e   n o v e m b e r               f i n a l s   i n   m a d r i d   n e x t   y e a r     a n d   w i l l   r e p l a c e   t h e   c l a s s i c   h o m e   a n d   a w a y   t i e s   p l a y e d   f o u r   t i m e s   p e r   y e a r   f o r   d e c a d e s  .   n a d a l   h a s   n o t   p l a y e d   t e n n i s   s i n c e   h e   w a s   f o r c e d   t o   r e t i r e   f r o m   t h e   u s   o p e n   s e m i   f i n a l s   a g a i n s t   j u a n   m a r t i n   d e l   p o r t o   w i t h   a   k n e e   i n j u r y  .   n o t   a l w a y s     b u t   i   r e a l l y   f e e l   l i k e   i n   t h e   m i d             y e a r s   t h e r e   w a s   a   h u g e   s h i f t   o f   t h e   a t t i t u d e s   o f   t h e   t o p   p l a y e r s   a n d   b e i n g   m o r e   f r i e n d l y   a n d   b e i n g   m o r e   g i v i n g     a n d   a   l o t   o f   t h a t   h a d   t o   d o   w i t h   p l a y e r s   l i k e   r o g e r   c o m i n g   u p  . b u t   w i t h   t h e   a t p   w o r l d   t o u r   f i n a l s   d u e   t o   b e g i n   n e x t   m o n t h     n a d a l   i s   r e a d y   t o   p r o v e   h i s   f i t n e s s   b e f o r e   t h e   s e a s o n   e n d i n g   e v e n t   a t   t h e         a r e n a  . s e e k i n g   a   n i n t h   t i t l e   a t   h i s   h o m e t o w n   e v e n t     a n d   a       t h   o v e r a l l     f e d e r e r   w i l l   p l a y       t h   r a n k e d   m a r i u s   c o p i l   o n   s u n d a y  . t h e   r u s s i a n   p l a y e r   h a s   n o   p r o b l e m s   i n   o p e n l y   s p e a k i n g   a b o u t   i t   a n d   i n   a   r e c e n t   i n t e r v i e w   s h e   s a i d       i   d o n   t   r e a l l y   h i d e   a n y   f e e l i n g s   t o o   m u c h  . n i s h i k o r i   l e a d s   a n d e r s o n           o n   c a r e e r   m a t c h u p s     b u t   t h e   s o u t h   a f r i c a n   w o n   t h e i r   o n l y   p r e v i o u s   m e e t i n g   t h i s   y e a r  . t h e         t i m e   g r a n d   s l a m   c h a m p i o n   h a s   v o i c e d   d o u b t s   a b o u t   t h e   w i s d o m   o f   t h e   o n e   w e e k   f o r m a t   t o   b e   i n t r o d u c e d   b y   o r g a n i s e r s   k o s m o s     w h o   h a v e   p r o m i s e d   t h e   i n t e r n a t i o n a l   t e n n i s   f e d e r a t i o n   u p   t o         b i l l i o n   i n   p r i z e   m o n e y   o v e r   t h e   n e x t   q u a r t e r   c e n t u r y  . s p e a k i n g   a t   t h e   s w i s s   i n d o o r s   t o u r n a m e n t   w h e r e   h e   w i l l   p l a y   i n   s u n d a y s   f i n a l   a g a i n s t   r o m a n i a n   q u a l i f i e r   m a r i u s   c o p i l     t h e   w o r l d   n u m b e r   t h r e e   s a i d   t h a t   g i v e n   t h e   i m p o s s i b l y   s h o r t   t i m e   f r a m e   t o   m a k e   a   d e c i s i o n     h e   o p t e d   o u t   o f   a n y   c o m m i t m e n t  \n"
          ]
        }
      ],
      "source": [
        "# Initialize an empty list for summarize_text\n",
        "summarize_text = []\n",
        "\n",
        "# Print the content of the top-ranked sentence\n",
        "for i in range(1):\n",
        "    print(dict[ranked_sentence[i][1]])\n",
        "\n",
        "# Append the top 10 sentences to the summarize_text list\n",
        "for i in range(10):\n",
        "    summarize_text.append(\" \".join(ranked_sentence[i][1]))\n",
        "\n",
        "# Print the summarized text\n",
        "print('Summarize Text:\\n', \". \".join(summarize_text))"
      ]
    },
    {
      "cell_type": "code",
      "execution_count": 7,
      "metadata": {
        "id": "-fmJmosPl6kj"
      },
      "outputs": [],
      "source": []
    }
  ],
  "metadata": {
    "kernelspec": {
      "display_name": "Python 3 (ipykernel)",
      "language": "python",
      "name": "python3"
    },
    "language_info": {
      "codemirror_mode": {
        "name": "ipython",
        "version": 3
      },
      "file_extension": ".py",
      "mimetype": "text/x-python",
      "name": "python",
      "nbconvert_exporter": "python",
      "pygments_lexer": "ipython3",
      "version": "3.9.5"
    },
    "colab": {
      "provenance": []
    }
  },
  "nbformat": 4,
  "nbformat_minor": 0
}