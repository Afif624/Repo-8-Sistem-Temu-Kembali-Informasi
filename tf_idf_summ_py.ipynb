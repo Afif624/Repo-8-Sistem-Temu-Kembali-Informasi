{
  "cells": [
    {
      "cell_type": "markdown",
      "metadata": {
        "id": "qfvmMq_eIRsk"
      },
      "source": [
        "## Text Summarization - (tf-idf)\n",
        "\n",
        "#### STEP 1 : Data cleaning\n",
        "#### STEP 2 : Score of sentences (tf-idf)\n",
        "#### STEP 3 : Summary Generation"
      ]
    },
    {
      "cell_type": "markdown",
      "metadata": {
        "id": "6dtp_YPkIRt7"
      },
      "source": [
        "## Initial Phase\n",
        "### Importing Libraries and Reading Data"
      ]
    },
    {
      "cell_type": "code",
      "execution_count": 1,
      "metadata": {
        "id": "n7b8KkAnIRuA"
      },
      "outputs": [],
      "source": [
        "from nltk.corpus import stopwords\n",
        "import numpy as np\n",
        "import pandas\n",
        "import nltk\n",
        "import re"
      ]
    },
    {
      "cell_type": "code",
      "execution_count": 2,
      "metadata": {
        "id": "bfUc3x-xIRuG"
      },
      "outputs": [],
      "source": [
        "df = pandas.read_csv('tennis_articles_v4.csv')"
      ]
    },
    {
      "cell_type": "code",
      "execution_count": 3,
      "metadata": {
        "colab": {
          "base_uri": "https://localhost:8080/"
        },
        "id": "Xclqg1fAIRuJ",
        "outputId": "c11b9157-3ea1-4f56-82d9-adc2178573fd"
      },
      "outputs": [
        {
          "output_type": "stream",
          "name": "stdout",
          "text": [
            "0    Maria Sharapova has basically no friends as te...\n",
            "1    BASEL, Switzerland (AP), Roger Federer advance...\n",
            "2    Roger Federer has revealed that organisers of ...\n",
            "3    Kei Nishikori will try to end his long losing ...\n",
            "4    Federer, 37, first broke through on tour over ...\n",
            "5    Nadal has not played tennis since he was force...\n",
            "6    Tennis giveth, and tennis taketh away. The end...\n",
            "7    Federer won the Swiss Indoors last week by bea...\n",
            "Name: article_text, dtype: object\n",
            "1561\n",
            "1331\n",
            "2063\n",
            "1341\n",
            "2076\n",
            "1545\n",
            "1079\n",
            "1833\n"
          ]
        }
      ],
      "source": [
        "print(df['article_text'])\n",
        "\n",
        "for a in df['article_text']:\n",
        "    print(len(a))"
      ]
    },
    {
      "cell_type": "markdown",
      "metadata": {
        "id": "zYvbQvGZIRuP"
      },
      "source": [
        "### Tokenizing sentences into words which would be used for calculating tf-idf scores"
      ]
    },
    {
      "cell_type": "code",
      "execution_count": 4,
      "metadata": {
        "colab": {
          "base_uri": "https://localhost:8080/"
        },
        "id": "l0h6jd9NIRuR",
        "outputId": "d4a93f11-1702-4a0a-dfba-c7c29e107b17"
      },
      "outputs": [
        {
          "output_type": "execute_result",
          "data": {
            "text/plain": [
              "['Maria Sharapova has basically no friends as tennis players on the WTA Tour.',\n",
              " \"The Russian player has no problems in openly speaking about it and in a recent interview she said: 'I don't really hide any feelings too much.\",\n",
              " 'I think everyone knows this is my job here.',\n",
              " \"When I'm on the courts or when I'm on the court playing, I'm a competitor and I want to beat every single person whether they're in the locker room or across the net.So I'm not the one to strike up a conversation about the weather and know that in the next few minutes I have to go and try to win a tennis match.\",\n",
              " \"I'm a pretty competitive girl.\",\n",
              " \"I say my hellos, but I'm not sending any players flowers as well.\",\n",
              " \"Uhm, I'm not really friendly or close to many players.\",\n",
              " \"I have not a lot of friends away from the courts.'\",\n",
              " 'When she said she is not really close to a lot of players, is that something strategic that she is doing?',\n",
              " \"Is it different on the men's tour than the women's tour?\",\n",
              " \"'No, not at all.\",\n",
              " \"I think just because you're in the same sport doesn't mean that you have to be friends with everyone just because you're categorized, you're a tennis player, so you're going to get along with tennis players.\",\n",
              " 'I think every person has different interests.',\n",
              " \"I have friends that have completely different jobs and interests, and I've met them in very different parts of my life.\",\n",
              " \"I think everyone just thinks because we're tennis players we should be the greatest of friends.\",\n",
              " 'But ultimately tennis is just a very small part of what we do.',\n",
              " \"There are so many other things that we're interested in, that we do.\",\n",
              " \"'BASEL, Switzerland (AP), Roger Federer advanced to the 14th Swiss Indoors final of his career by beating seventh-seeded Daniil Medvedev 6-1, 6-4 on Saturday.\",\n",
              " 'Seeking a ninth title at his hometown event, and a 99th overall, Federer will play 93th-ranked Marius Copil on Sunday.',\n",
              " 'Federer dominated the 20th-ranked Medvedev and had his first match-point chance to break serve again at 5-1.',\n",
              " \"He then dropped his serve to love, and let another match point slip in Medvedev's next service game by netting a backhand.\",\n",
              " 'He clinched on his fourth chance when Medvedev netted from the baseline.',\n",
              " 'Copil upset expectations of a Federer final against Alexander Zverev in a 6-3, 6-7 (6), 6-4 win over the fifth-ranked German in the earlier semifinal.',\n",
              " 'The Romanian aims for a first title after arriving at Basel without a career win over a top-10 opponent.',\n",
              " 'Copil has two after also beating No.',\n",
              " '6 Marin Cilic in the second round.',\n",
              " 'Copil fired 26 aces past Zverev and never dropped serve, clinching after 2 1/2 hours with a forehand volley winner to break Zverev for the second time in the semifinal.',\n",
              " \"He came through two rounds of qualifying last weekend to reach the Basel main draw, including beating Zverev's older brother, Mischa.\",\n",
              " 'Federer had an easier time than in his only previous match against Medvedev, a three-setter at Shanghai two weeks ago.Roger Federer has revealed that organisers of the re-launched and condensed Davis Cup gave him three days to decide if he would commit to the controversial competition.',\n",
              " 'Speaking at the Swiss Indoors tournament where he will play in Sundays final against Romanian qualifier Marius Copil, the world number three said that given the impossibly short time frame to make a decision, he opted out of any commitment.',\n",
              " '\"They only left me three days to decide\", Federer said.',\n",
              " '\"I didn\\'t to have time to consult with all the people I had to consult.',\n",
              " '\"I could not make a decision in that time, so I told them to do what they wanted.\"',\n",
              " 'The 20-time Grand Slam champion has voiced doubts about the wisdom of the one-week format to be introduced by organisers Kosmos, who have promised the International Tennis Federation up to $3 billion in prize money over the next quarter-century.',\n",
              " 'The competition is set to feature 18 countries in the November 18-24 finals in Madrid next year, and will replace the classic home-and-away ties played four times per year for decades.',\n",
              " 'Kosmos is headed by Barcelona footballer Gerard Pique, who is hoping fellow Spaniard Rafael Nadal will play in the upcoming event.',\n",
              " \"Novak Djokovic has said he will give precedence to the ATP's intended re-launch of the defunct World Team Cup in January 2020, at various Australian venues.\",\n",
              " 'Major players feel that a big event in late November combined with one in January before the Australian Open will mean too much tennis and too little rest.',\n",
              " 'Federer said earlier this month in Shanghai in that his chances of playing the Davis Cup were all but non-existent.',\n",
              " '\"I highly doubt it, of course.',\n",
              " 'We will see what happens,\" he said.',\n",
              " '\"I do not think this was designed for me, anyhow.',\n",
              " 'This was designed for the future generation of players.\"',\n",
              " 'Argentina and Britain received wild cards to the new-look event, and will compete along with the four 2018 semi-finalists and the 12 teams who win qualifying rounds next February.',\n",
              " '\"I don\\'t like being under that kind of pressure,\" Federer said of the deadline Kosmos handed him.Kei Nishikori will try to end his long losing streak in ATP finals and Kevin Anderson will go for his second title of the year at the Erste Bank Open on Sunday.',\n",
              " 'The fifth-seeded Nishikori reached his third final of 2018 after beating Mikhail Kukushkin of Kazakhstan 6-4, 6-3 in the semifinals.',\n",
              " \"A winner of 11 ATP events, Nishikori hasn't triumphed since winning in Memphis in February 2016.\",\n",
              " 'He has lost eight straight finals since.',\n",
              " 'The second-seeded Anderson defeated Fernando Verdasco 6-3, 3-6, 6-4.',\n",
              " 'Anderson has a shot at a fifth career title and second of the year after winning in New York in February.',\n",
              " 'Nishikori leads Anderson 4-2 on career matchups, but the South African won their only previous meeting this year.',\n",
              " 'With a victory on Sunday, Anderson will qualify for the ATP Finals.',\n",
              " 'Currently in ninth place, Nishikori with a win could move to within 125 points of the cut for the eight-man event in London next month.',\n",
              " 'Nishikori held serve throughout against Kukushkin, who came through qualifying.',\n",
              " 'He used his first break point to close out the first set before going up 3-0 in the second and wrapping up the win on his first match point.',\n",
              " 'Against Verdasco, Anderson hit nine of his 19 aces in the opening set.',\n",
              " \"The Spaniard broke Anderson twice in the second but didn't get another chance on the South African's serve in the final set.Federer, 37, first broke through on tour over two decades ago and he has since gone on to enjoy a glittering career.\",\n",
              " 'The 20-time Grand Slam winner is chasing his 99th ATP title at the Swiss Indoors this week and he faces Jan-Lennard Struff in the second round on Thursday (6pm BST).',\n",
              " 'Davenport enjoyed most of her success in the late 1990s and her third and final major tournament win came at the 2000 Australian Open.',\n",
              " 'But she claims the mentality of professional tennis players slowly began to change after the new millennium.',\n",
              " '\"It seems pretty friendly right now,\" said Davenport.',\n",
              " '\"I think there is a really nice environment and a great atmosphere, especially between some of the veteran players helping some of the younger players out.',\n",
              " '\"It\\'s a very pleasant atmosphere, I\\'d have to say, around the locker rooms.',\n",
              " '\"I felt like the best weeks that I had to get to know players when I was playing were the Fed Cup weeks or the Olympic weeks, not necessarily during the tournaments.',\n",
              " '\"And even though maybe we had smaller teams, I still think we kept to ourselves quite a bit.',\n",
              " '\"Not always, but I really feel like in the mid-2000 years there was a huge shift of the attitudes of the top players and being more friendly and being more giving, and a lot of that had to do with players like Roger coming up.',\n",
              " '\"I just felt like it really kind of changed where people were a little bit, definitely in the 90s, a lot more quiet, into themselves, and then it started to become better.\"',\n",
              " 'Meanwhile, Federer is hoping he can improve his service game as he hunts his ninth Swiss Indoors title this week.',\n",
              " '\"I didn\\'t serve very well [against first-round opponent Filip Kranjovic,\" Federer said.',\n",
              " '\"I think I was misfiring the corners, I was not hitting the lines enough.',\n",
              " '\"Clearly you make your life more difficult, but still I was up 6-2, 3-1, break points, so things could have ended very quickly today, even though I didn\\'t have the best serve percentage stats.',\n",
              " '\"But maybe that\\'s exactly what caught up to me eventually.',\n",
              " \"It's just getting used to it.\",\n",
              " 'This is where the first rounds can be tricky.',\n",
              " '\"Nadal has not played tennis since he was forced to retire from the US Open semi-finals against Juan Martin Del Porto with a knee injury.',\n",
              " \"The world No 1 has been forced to miss Spain's Davis Cup clash with France and the Asian hard court season.\",\n",
              " 'But with the ATP World Tour Finals due to begin next month, Nadal is ready to prove his fitness before the season-ending event at the 02 Arena.',\n",
              " 'Nadal flew to Paris on Friday and footage from the Paris Masters official Twitter account shows the Spaniard smiling as he strides onto court for practice.',\n",
              " 'The Paris Masters draw has been made and Nadal will start his campaign on Tuesday or Wednesday against either Fernando Verdasco or Jeremy Chardy.',\n",
              " 'Nadal could then play defending champion Jack Sock in the third round before a potential quarter-final with either Borna Coric or Dominic Thiem.',\n",
              " \"Nadal's appearance in Paris is a big boost to the tournament organisers who could see Roger Federer withdraw.\",\n",
              " 'Federer is in action at the Swiss Indoors in Basel and if he reaches the final, he could pull out of Paris in a bid to stay fresh for London.',\n",
              " 'But as it stands, Federer is in the draw and is scheduled to face either former world No 3 Milos Raonic or Jo-Wilfried Tsonga in the second round.',\n",
              " \"Federer's projected route to the Paris final could also lead to matches against Kevin Anderson and Novak Djokovic.\",\n",
              " 'Djokovic could play Marco Cecchinato in the second round.',\n",
              " 'British No 1 Kyle Edmund is the 12th seed in Paris and will get underway in round two against either Karen Khachanov or Filip Krajinovic.Tennis giveth, and tennis taketh away.',\n",
              " 'The end of the season is finally in sight, and with so many players defending,or losing,huge chunks of points in Singapore, Zhuhai and London, podcast co-hosts Nina Pantic and Irina Falconi discuss the art of defending points (02:14).',\n",
              " \"It's no secret that Jack Sock has struggled on the singles court this year (his record is 7-19).\",\n",
              " 'He could lose 1,400 points in the next few weeks, but instead of focusing on the negative, it can all be about perspective (06:28).',\n",
              " \"Let's also not forget his two Grand Slam doubles triumphs this season.\",\n",
              " 'Two players, Stefanos Tsitsipas and Kyle Edmund, won their first career ATP titles last week (13:26).',\n",
              " \"It's a big deal because you never forget your first.\",\n",
              " 'Irina looks back at her WTA title win in Bogota in 2016, and tells an unforgettable story about her semifinal drama (14:04).',\n",
              " 'In Singapore, one of the biggest storylines (aside from the matches, of course) has been the on-court coaching debate.',\n",
              " 'Nina and Irina give their opinions on what coaching should look like in the future, on both tours (18:55).Federer won the Swiss Indoors last week by beating Romanian qualifier Marius Copil in the final.',\n",
              " 'The 37-year-old claimed his 99th ATP title and is hunting the century in the French capital this week.',\n",
              " 'Federer has been handed a difficult draw where could could come across Kevin Anderson, Novak Djokovic and Rafael Nadal in the latter rounds.',\n",
              " 'But first the 20-time Grand Slam winner wants to train on the Paris Masters court this afternoon before deciding whether to appear for his opening match against either Milos Raonic or Jo-Wilfried Tsonga.',\n",
              " '\"On Monday, I am free and will look how I feel,\" Federer said after winning the Swiss Indoors.',\n",
              " '\"On Tuesday I will fly to Paris and train in the afternoon to be ready for my first match on Wednesday night.',\n",
              " '\"I felt good all week and better every day.',\n",
              " '\"We also had the impression that at this stage it might be better to play matches than to train.',\n",
              " '\"And as long as I fear no injury, I play.\"',\n",
              " \"Federer's success in Basel last week was the ninth time he has won his hometown tournament.\",\n",
              " 'And he was delighted to be watched on by all of his family and friends as he purchased 60 tickets for the final for those dearest to him.',\n",
              " '\"My children, my parents, my sister and my team are all there,\" Federer added.',\n",
              " '\"It is always very emotional for me to thank my team.',\n",
              " 'And sometimes it tilts with the emotions, sometimes I just stumble.',\n",
              " '\"It means the world to me.',\n",
              " 'It makes me incredibly happy to win my home tournament and make people happy here.',\n",
              " '\"I do not know if it\\'s maybe my last title, so today I try a lot more to absorb that and enjoy the moments much more consciously.',\n",
              " '\"Maybe I should celebrate as if it were my last title.',\n",
              " '\"There are very touching moments: seeing the ball children, the standing ovations, all the familiar faces in the audience.',\n",
              " 'Because it was not always easy in the last weeks.\"']"
            ]
          },
          "metadata": {},
          "execution_count": 4
        }
      ],
      "source": [
        "from nltk.tokenize import sent_tokenize\n",
        "s = \"\"\n",
        "for a in df['article_text']:\n",
        "      s += a\n",
        "sentences = sent_tokenize(s)\n",
        "sentences"
      ]
    },
    {
      "cell_type": "markdown",
      "metadata": {
        "id": "d2ZvbHh1IRuT"
      },
      "source": [
        "## STEP 1 : Data Cleaning\n",
        "### Cleaning sentences, by removing Non Alphabet Characters and converting to Lower Case Letters"
      ]
    },
    {
      "cell_type": "code",
      "execution_count": 5,
      "metadata": {
        "colab": {
          "base_uri": "https://localhost:8080/",
          "height": 174
        },
        "id": "V0mgvuQCIRuV",
        "outputId": "35d9e735-143d-4bce-a928-43419e55794d"
      },
      "outputs": [
        {
          "output_type": "execute_result",
          "data": {
            "text/plain": [
              "'maria sharapova has basically no friends as tennis players on the wta tour the russian player has no problems in openly speaking about it and in a recent interview she said   i don t really hide any feelings too much i think everyone knows this is my job here when i m on the courts or when i m on the court playing  i m a competitor and i want to beat every single person whether they re in the locker room or across the net so i m not the one to strike up a conversation about the weather and know that in the next few minutes i have to go and try to win a tennis match i m a pretty competitive girl i say my hellos  but i m not sending any players flowers as well uhm  i m not really friendly or close to many players i have not a lot of friends away from the courts  when she said she is not really close to a lot of players  is that something strategic that she is doing is it different on the men s tour than the women s tour  no  not at all i think just because you re in the same sport doesn t mean that you have to be friends with everyone just because you re categorized  you re a tennis player  so you re going to get along with tennis players i think every person has different interests i have friends that have completely different jobs and interests  and i ve met them in very different parts of my life i think everyone just thinks because we re tennis players we should be the greatest of friends but ultimately tennis is just a very small part of what we do there are so many other things that we re interested in  that we do  basel  switzerland  ap   roger federer advanced to the   th swiss indoors final of his career by beating seventh seeded daniil medvedev          on saturday seeking a ninth title at his hometown event  and a   th overall  federer will play   th ranked marius copil on sunday federer dominated the   th ranked medvedev and had his first match point chance to break serve again at     he then dropped his serve to love  and let another match point slip in medvedev s next service game by netting a backhand he clinched on his fourth chance when medvedev netted from the baseline copil upset expectations of a federer final against alexander zverev in a                   win over the fifth ranked german in the earlier semifinal the romanian aims for a first title after arriving at basel without a career win over a top    opponent copil has two after also beating no   marin cilic in the second round copil fired    aces past zverev and never dropped serve  clinching after       hours with a forehand volley winner to break zverev for the second time in the semifinal he came through two rounds of qualifying last weekend to reach the basel main draw  including beating zverev s older brother  mischa federer had an easier time than in his only previous match against medvedev  a three setter at shanghai two weeks ago roger federer has revealed that organisers of the re launched and condensed davis cup gave him three days to decide if he would commit to the controversial competition speaking at the swiss indoors tournament where he will play in sundays final against romanian qualifier marius copil  the world number three said that given the impossibly short time frame to make a decision  he opted out of any commitment  they only left me three days to decide   federer said  i didn t to have time to consult with all the people i had to consult  i could not make a decision in that time  so i told them to do what they wanted  the    time grand slam champion has voiced doubts about the wisdom of the one week format to be introduced by organisers kosmos  who have promised the international tennis federation up to    billion in prize money over the next quarter century the competition is set to feature    countries in the november       finals in madrid next year  and will replace the classic home and away ties played four times per year for decades kosmos is headed by barcelona footballer gerard pique  who is hoping fellow spaniard rafael nadal will play in the upcoming event novak djokovic has said he will give precedence to the atp s intended re launch of the defunct world team cup in january       at various australian venues major players feel that a big event in late november combined with one in january before the australian open will mean too much tennis and too little rest federer said earlier this month in shanghai in that his chances of playing the davis cup were all but non existent  i highly doubt it  of course we will see what happens   he said  i do not think this was designed for me  anyhow this was designed for the future generation of players  argentina and britain received wild cards to the new look event  and will compete along with the four      semi finalists and the    teams who win qualifying rounds next february  i don t like being under that kind of pressure   federer said of the deadline kosmos handed him kei nishikori will try to end his long losing streak in atp finals and kevin anderson will go for his second title of the year at the erste bank open on sunday the fifth seeded nishikori reached his third final of      after beating mikhail kukushkin of kazakhstan          in the semifinals a winner of    atp events  nishikori hasn t triumphed since winning in memphis in february      he has lost eight straight finals since the second seeded anderson defeated fernando verdasco               anderson has a shot at a fifth career title and second of the year after winning in new york in february nishikori leads anderson     on career matchups  but the south african won their only previous meeting this year with a victory on sunday  anderson will qualify for the atp finals currently in ninth place  nishikori with a win could move to within     points of the cut for the eight man event in london next month nishikori held serve throughout against kukushkin  who came through qualifying he used his first break point to close out the first set before going up     in the second and wrapping up the win on his first match point against verdasco  anderson hit nine of his    aces in the opening set the spaniard broke anderson twice in the second but didn t get another chance on the south african s serve in the final set federer      first broke through on tour over two decades ago and he has since gone on to enjoy a glittering career the    time grand slam winner is chasing his   th atp title at the swiss indoors this week and he faces jan lennard struff in the second round on thursday   pm bst  davenport enjoyed most of her success in the late     s and her third and final major tournament win came at the      australian open but she claims the mentality of professional tennis players slowly began to change after the new millennium  it seems pretty friendly right now   said davenport  i think there is a really nice environment and a great atmosphere  especially between some of the veteran players helping some of the younger players out  it s a very pleasant atmosphere  i d have to say  around the locker rooms  i felt like the best weeks that i had to get to know players when i was playing were the fed cup weeks or the olympic weeks  not necessarily during the tournaments  and even though maybe we had smaller teams  i still think we kept to ourselves quite a bit  not always  but i really feel like in the mid      years there was a huge shift of the attitudes of the top players and being more friendly and being more giving  and a lot of that had to do with players like roger coming up  i just felt like it really kind of changed where people were a little bit  definitely in the   s  a lot more quiet  into themselves  and then it started to become better  meanwhile  federer is hoping he can improve his service game as he hunts his ninth swiss indoors title this week  i didn t serve very well  against first round opponent filip kranjovic   federer said  i think i was misfiring the corners  i was not hitting the lines enough  clearly you make your life more difficult  but still i was up           break points  so things could have ended very quickly today  even though i didn t have the best serve percentage stats  but maybe that s exactly what caught up to me eventually it s just getting used to it this is where the first rounds can be tricky  nadal has not played tennis since he was forced to retire from the us open semi finals against juan martin del porto with a knee injury the world no   has been forced to miss spain s davis cup clash with france and the asian hard court season but with the atp world tour finals due to begin next month  nadal is ready to prove his fitness before the season ending event at the    arena nadal flew to paris on friday and footage from the paris masters official twitter account shows the spaniard smiling as he strides onto court for practice the paris masters draw has been made and nadal will start his campaign on tuesday or wednesday against either fernando verdasco or jeremy chardy nadal could then play defending champion jack sock in the third round before a potential quarter final with either borna coric or dominic thiem nadal s appearance in paris is a big boost to the tournament organisers who could see roger federer withdraw federer is in action at the swiss indoors in basel and if he reaches the final  he could pull out of paris in a bid to stay fresh for london but as it stands  federer is in the draw and is scheduled to face either former world no   milos raonic or jo wilfried tsonga in the second round federer s projected route to the paris final could also lead to matches against kevin anderson and novak djokovic djokovic could play marco cecchinato in the second round british no   kyle edmund is the   th seed in paris and will get underway in round two against either karen khachanov or filip krajinovic tennis giveth  and tennis taketh away the end of the season is finally in sight  and with so many players defending or losing huge chunks of points in singapore  zhuhai and london  podcast co hosts nina pantic and irina falconi discuss the art of defending points         it s no secret that jack sock has struggled on the singles court this year  his record is       he could lose       points in the next few weeks  but instead of focusing on the negative  it can all be about perspective         let s also not forget his two grand slam doubles triumphs this season two players  stefanos tsitsipas and kyle edmund  won their first career atp titles last week         it s a big deal because you never forget your first irina looks back at her wta title win in bogota in       and tells an unforgettable story about her semifinal drama         in singapore  one of the biggest storylines  aside from the matches  of course  has been the on court coaching debate nina and irina give their opinions on what coaching should look like in the future  on both tours         federer won the swiss indoors last week by beating romanian qualifier marius copil in the final the    year old claimed his   th atp title and is hunting the century in the french capital this week federer has been handed a difficult draw where could could come across kevin anderson  novak djokovic and rafael nadal in the latter rounds but first the    time grand slam winner wants to train on the paris masters court this afternoon before deciding whether to appear for his opening match against either milos raonic or jo wilfried tsonga  on monday  i am free and will look how i feel   federer said after winning the swiss indoors  on tuesday i will fly to paris and train in the afternoon to be ready for my first match on wednesday night  i felt good all week and better every day  we also had the impression that at this stage it might be better to play matches than to train  and as long as i fear no injury  i play  federer s success in basel last week was the ninth time he has won his hometown tournament and he was delighted to be watched on by all of his family and friends as he purchased    tickets for the final for those dearest to him  my children  my parents  my sister and my team are all there   federer added  it is always very emotional for me to thank my team and sometimes it tilts with the emotions  sometimes i just stumble  it means the world to me it makes me incredibly happy to win my home tournament and make people happy here  i do not know if it s maybe my last title  so today i try a lot more to absorb that and enjoy the moments much more consciously  maybe i should celebrate as if it were my last title  there are very touching moments  seeing the ball children  the standing ovations  all the familiar faces in the audience because it was not always easy in the last weeks  '"
            ],
            "application/vnd.google.colaboratory.intrinsic+json": {
              "type": "string"
            }
          },
          "metadata": {},
          "execution_count": 5
        }
      ],
      "source": [
        "dict = {}\n",
        "text=\"\"\n",
        "for a in sentences:\n",
        "    temp = re.sub(\"[^a-zA-Z]\",\" \",a)\n",
        "    temp = temp.lower()\n",
        "    dict[temp] = a\n",
        "    text+=temp\n",
        "text"
      ]
    },
    {
      "cell_type": "markdown",
      "metadata": {
        "id": "veeZJ-PTIRuY"
      },
      "source": [
        "## STEP 2 : Getting tf-idf score of sentences\n",
        "### Finding term frequency ( tf ) of words found in text"
      ]
    },
    {
      "cell_type": "code",
      "execution_count": 6,
      "metadata": {
        "colab": {
          "base_uri": "https://localhost:8080/"
        },
        "id": "y7mc1riFIRub",
        "outputId": "707df119-4e6e-414b-e94f-942b3d7cf496"
      },
      "outputs": [
        {
          "output_type": "stream",
          "name": "stdout",
          "text": [
            "{'maria': 1, 'sharapova': 1, 'basically': 1, 'friends': 6, 'tennis': 12, 'players': 16, 'wta': 2, 'tour': 5, 'russian': 1, 'player': 2, 'problems': 1, 'openly': 1, 'speaking': 2, 'recent': 1, 'interview': 1, 'said': 11, 'really': 6, 'hide': 1, 'feelings': 1, 'much': 3, 'think': 8, 'everyone': 3, 'knows': 1, 'job': 1, 'courts': 2, 'court': 6, 'playing': 3, 'competitor': 1, 'want': 1, 'beat': 1, 'every': 3, 'single': 1, 'person': 2, 'whether': 2, 'locker': 2, 'room': 1, 'across': 2, 'net': 1, 'one': 4, 'strike': 1, 'conversation': 1, 'weather': 1, 'know': 3, 'next': 8, 'minutes': 1, 'go': 2, 'try': 3, 'win': 9, 'match': 7, 'pretty': 2, 'competitive': 1, 'girl': 1, 'say': 2, 'hellos': 1, 'sending': 1, 'flowers': 1, 'well': 2, 'uhm': 1, 'friendly': 3, 'close': 3, 'many': 3, 'lot': 5, 'away': 3, 'something': 1, 'strategic': 1, 'different': 4, 'men': 1, 'women': 1, 'sport': 1, 'mean': 2, 'categorized': 1, 'going': 2, 'get': 4, 'along': 2, 'interests': 2, 'completely': 1, 'jobs': 1, 'met': 1, 'parts': 1, 'life': 2, 'thinks': 1, 'greatest': 1, 'ultimately': 1, 'small': 1, 'part': 1, 'things': 2, 'interested': 1, 'basel': 5, 'switzerland': 1, 'ap': 1, 'roger': 4, 'federer': 21, 'advanced': 1, 'th': 7, 'swiss': 7, 'indoors': 7, 'final': 11, 'career': 6, 'beating': 5, 'seventh': 1, 'seeded': 3, 'daniil': 1, 'medvedev': 5, 'saturday': 1, 'seeking': 1, 'ninth': 4, 'title': 10, 'hometown': 2, 'event': 6, 'overall': 1, 'play': 7, 'ranked': 3, 'marius': 3, 'copil': 6, 'sunday': 3, 'dominated': 1, 'first': 12, 'point': 4, 'chance': 3, 'break': 4, 'serve': 7, 'dropped': 2, 'love': 1, 'let': 2, 'another': 2, 'slip': 1, 'service': 2, 'game': 2, 'netting': 1, 'backhand': 1, 'clinched': 1, 'fourth': 1, 'netted': 1, 'baseline': 1, 'upset': 1, 'expectations': 1, 'alexander': 1, 'zverev': 4, 'fifth': 3, 'german': 1, 'earlier': 2, 'semifinal': 3, 'romanian': 3, 'aims': 1, 'arriving': 1, 'without': 1, 'top': 2, 'opponent': 2, 'two': 7, 'also': 4, 'marin': 1, 'cilic': 1, 'second': 10, 'round': 7, 'fired': 1, 'aces': 2, 'past': 1, 'never': 2, 'clinching': 1, 'hours': 1, 'forehand': 1, 'volley': 1, 'winner': 4, 'time': 9, 'came': 3, 'rounds': 4, 'qualifying': 3, 'last': 7, 'weekend': 1, 'reach': 1, 'main': 1, 'draw': 4, 'including': 1, 'older': 1, 'brother': 1, 'mischa': 1, 'easier': 1, 'previous': 2, 'three': 4, 'setter': 1, 'shanghai': 2, 'weeks': 6, 'ago': 2, 'revealed': 1, 'organisers': 3, 'launched': 1, 'condensed': 1, 'davis': 3, 'cup': 5, 'gave': 1, 'days': 2, 'decide': 2, 'would': 1, 'commit': 1, 'controversial': 1, 'competition': 2, 'tournament': 5, 'sundays': 1, 'qualifier': 2, 'world': 6, 'number': 1, 'given': 1, 'impossibly': 1, 'short': 1, 'frame': 1, 'make': 4, 'decision': 2, 'opted': 1, 'commitment': 1, 'left': 1, 'consult': 2, 'people': 3, 'could': 11, 'told': 1, 'wanted': 1, 'grand': 4, 'slam': 4, 'champion': 2, 'voiced': 1, 'doubts': 1, 'wisdom': 1, 'week': 8, 'format': 1, 'introduced': 1, 'kosmos': 3, 'promised': 1, 'international': 1, 'federation': 1, 'billion': 1, 'prize': 1, 'money': 1, 'quarter': 2, 'century': 2, 'set': 4, 'feature': 1, 'countries': 1, 'november': 2, 'finals': 6, 'madrid': 1, 'year': 7, 'replace': 1, 'classic': 1, 'home': 2, 'ties': 1, 'played': 2, 'four': 2, 'times': 1, 'per': 1, 'decades': 2, 'headed': 1, 'barcelona': 1, 'footballer': 1, 'gerard': 1, 'pique': 1, 'hoping': 2, 'fellow': 1, 'spaniard': 3, 'rafael': 2, 'nadal': 8, 'upcoming': 1, 'novak': 3, 'djokovic': 4, 'give': 2, 'precedence': 1, 'atp': 8, 'intended': 1, 'launch': 1, 'defunct': 1, 'team': 3, 'january': 2, 'various': 1, 'australian': 3, 'venues': 1, 'major': 2, 'feel': 3, 'big': 3, 'late': 2, 'combined': 1, 'open': 4, 'little': 2, 'rest': 1, 'month': 3, 'chances': 1, 'non': 1, 'existent': 1, 'highly': 1, 'doubt': 1, 'course': 2, 'see': 2, 'happens': 1, 'designed': 2, 'anyhow': 1, 'future': 2, 'generation': 1, 'argentina': 1, 'britain': 1, 'received': 1, 'wild': 1, 'cards': 1, 'new': 3, 'look': 3, 'compete': 1, 'semi': 2, 'finalists': 1, 'teams': 2, 'february': 3, 'like': 6, 'kind': 2, 'pressure': 1, 'deadline': 1, 'handed': 2, 'kei': 1, 'nishikori': 6, 'end': 2, 'long': 2, 'losing': 2, 'streak': 1, 'kevin': 3, 'anderson': 9, 'erste': 1, 'bank': 1, 'reached': 1, 'third': 3, 'mikhail': 1, 'kukushkin': 2, 'kazakhstan': 1, 'semifinals': 1, 'events': 1, 'triumphed': 1, 'since': 4, 'winning': 3, 'memphis': 1, 'lost': 1, 'eight': 2, 'straight': 1, 'defeated': 1, 'fernando': 2, 'verdasco': 3, 'shot': 1, 'york': 1, 'leads': 1, 'matchups': 1, 'south': 2, 'african': 2, 'meeting': 1, 'victory': 1, 'qualify': 1, 'currently': 1, 'place': 1, 'move': 1, 'within': 1, 'points': 5, 'cut': 1, 'man': 1, 'london': 3, 'held': 1, 'throughout': 1, 'used': 2, 'wrapping': 1, 'hit': 1, 'nine': 1, 'opening': 2, 'broke': 2, 'twice': 1, 'gone': 1, 'enjoy': 2, 'glittering': 1, 'chasing': 1, 'faces': 2, 'jan': 1, 'lennard': 1, 'struff': 1, 'thursday': 1, 'pm': 1, 'bst': 1, 'davenport': 2, 'enjoyed': 1, 'success': 2, 'claims': 1, 'mentality': 1, 'professional': 1, 'slowly': 1, 'began': 1, 'change': 1, 'millennium': 1, 'seems': 1, 'right': 1, 'nice': 1, 'environment': 1, 'great': 1, 'atmosphere': 2, 'especially': 1, 'veteran': 1, 'helping': 1, 'younger': 1, 'pleasant': 1, 'around': 1, 'rooms': 1, 'felt': 3, 'best': 2, 'fed': 1, 'olympic': 1, 'necessarily': 1, 'tournaments': 1, 'even': 2, 'though': 2, 'maybe': 4, 'smaller': 1, 'still': 2, 'kept': 1, 'quite': 1, 'bit': 2, 'always': 3, 'mid': 1, 'years': 1, 'huge': 2, 'shift': 1, 'attitudes': 1, 'giving': 1, 'coming': 1, 'changed': 1, 'definitely': 1, 'quiet': 1, 'started': 1, 'become': 1, 'better': 3, 'meanwhile': 1, 'improve': 1, 'hunts': 1, 'filip': 2, 'kranjovic': 1, 'misfiring': 1, 'corners': 1, 'hitting': 1, 'lines': 1, 'enough': 1, 'clearly': 1, 'difficult': 2, 'ended': 1, 'quickly': 1, 'today': 2, 'percentage': 1, 'stats': 1, 'exactly': 1, 'caught': 1, 'eventually': 1, 'getting': 1, 'tricky': 1, 'forced': 2, 'retire': 1, 'us': 1, 'juan': 1, 'martin': 1, 'del': 1, 'porto': 1, 'knee': 1, 'injury': 2, 'miss': 1, 'spain': 1, 'clash': 1, 'france': 1, 'asian': 1, 'hard': 1, 'season': 4, 'due': 1, 'begin': 1, 'ready': 2, 'prove': 1, 'fitness': 1, 'ending': 1, 'arena': 1, 'flew': 1, 'paris': 9, 'friday': 1, 'footage': 1, 'masters': 3, 'official': 1, 'twitter': 1, 'account': 1, 'shows': 1, 'smiling': 1, 'strides': 1, 'onto': 1, 'practice': 1, 'made': 1, 'start': 1, 'campaign': 1, 'tuesday': 2, 'wednesday': 2, 'either': 5, 'jeremy': 1, 'chardy': 1, 'defending': 3, 'jack': 2, 'sock': 2, 'potential': 1, 'borna': 1, 'coric': 1, 'dominic': 1, 'thiem': 1, 'appearance': 1, 'boost': 1, 'withdraw': 1, 'action': 1, 'reaches': 1, 'pull': 1, 'bid': 1, 'stay': 1, 'fresh': 1, 'stands': 1, 'scheduled': 1, 'face': 1, 'former': 1, 'milos': 2, 'raonic': 2, 'jo': 2, 'wilfried': 2, 'tsonga': 2, 'projected': 1, 'route': 1, 'lead': 1, 'matches': 3, 'marco': 1, 'cecchinato': 1, 'british': 1, 'kyle': 2, 'edmund': 2, 'seed': 1, 'underway': 1, 'karen': 1, 'khachanov': 1, 'krajinovic': 1, 'giveth': 1, 'taketh': 1, 'finally': 1, 'sight': 1, 'chunks': 1, 'singapore': 2, 'zhuhai': 1, 'podcast': 1, 'co': 1, 'hosts': 1, 'nina': 2, 'pantic': 1, 'irina': 3, 'falconi': 1, 'discuss': 1, 'art': 1, 'secret': 1, 'struggled': 1, 'singles': 1, 'record': 1, 'lose': 1, 'instead': 1, 'focusing': 1, 'negative': 1, 'perspective': 1, 'forget': 2, 'doubles': 1, 'triumphs': 1, 'stefanos': 1, 'tsitsipas': 1, 'titles': 1, 'deal': 1, 'looks': 1, 'back': 1, 'bogota': 1, 'tells': 1, 'unforgettable': 1, 'story': 1, 'drama': 1, 'biggest': 1, 'storylines': 1, 'aside': 1, 'coaching': 2, 'debate': 1, 'opinions': 1, 'tours': 1, 'old': 1, 'claimed': 1, 'hunting': 1, 'french': 1, 'capital': 1, 'come': 1, 'latter': 1, 'wants': 1, 'train': 3, 'afternoon': 2, 'deciding': 1, 'appear': 1, 'monday': 1, 'free': 1, 'fly': 1, 'night': 1, 'good': 1, 'day': 1, 'impression': 1, 'stage': 1, 'might': 1, 'fear': 1, 'delighted': 1, 'watched': 1, 'family': 1, 'purchased': 1, 'tickets': 1, 'dearest': 1, 'children': 2, 'parents': 1, 'sister': 1, 'added': 1, 'emotional': 1, 'thank': 1, 'sometimes': 2, 'tilts': 1, 'emotions': 1, 'stumble': 1, 'means': 1, 'makes': 1, 'incredibly': 1, 'happy': 2, 'absorb': 1, 'moments': 2, 'consciously': 1, 'celebrate': 1, 'touching': 1, 'seeing': 1, 'ball': 1, 'standing': 1, 'ovations': 1, 'familiar': 1, 'audience': 1, 'easy': 1}\n"
          ]
        }
      ],
      "source": [
        "stopwords = nltk.corpus.stopwords.words('english')\n",
        "word_frequencies = {}\n",
        "for word in nltk.word_tokenize(text):\n",
        "    if word not in stopwords:\n",
        "        if word not in word_frequencies.keys():\n",
        "            word_frequencies[word] = 1\n",
        "        else:\n",
        "            word_frequencies[word] += 1\n",
        "print (word_frequencies)"
      ]
    },
    {
      "cell_type": "markdown",
      "metadata": {
        "id": "0q1ydFYCIRue"
      },
      "source": [
        "### Finding weighted frequency of the words"
      ]
    },
    {
      "cell_type": "code",
      "execution_count": 7,
      "metadata": {
        "colab": {
          "base_uri": "https://localhost:8080/"
        },
        "id": "YI2GWuk6IRuf",
        "outputId": "84d1c100-9dd0-4589-f452-b3dfea2fb7ea"
      },
      "outputs": [
        {
          "output_type": "stream",
          "name": "stdout",
          "text": [
            "{'maria': 0.047619047619047616, 'sharapova': 0.047619047619047616, 'basically': 0.047619047619047616, 'friends': 0.2857142857142857, 'tennis': 0.5714285714285714, 'players': 0.7619047619047619, 'wta': 0.09523809523809523, 'tour': 0.23809523809523808, 'russian': 0.047619047619047616, 'player': 0.09523809523809523, 'problems': 0.047619047619047616, 'openly': 0.047619047619047616, 'speaking': 0.09523809523809523, 'recent': 0.047619047619047616, 'interview': 0.047619047619047616, 'said': 0.5238095238095238, 'really': 0.2857142857142857, 'hide': 0.047619047619047616, 'feelings': 0.047619047619047616, 'much': 0.14285714285714285, 'think': 0.38095238095238093, 'everyone': 0.14285714285714285, 'knows': 0.047619047619047616, 'job': 0.047619047619047616, 'courts': 0.09523809523809523, 'court': 0.2857142857142857, 'playing': 0.14285714285714285, 'competitor': 0.047619047619047616, 'want': 0.047619047619047616, 'beat': 0.047619047619047616, 'every': 0.14285714285714285, 'single': 0.047619047619047616, 'person': 0.09523809523809523, 'whether': 0.09523809523809523, 'locker': 0.09523809523809523, 'room': 0.047619047619047616, 'across': 0.09523809523809523, 'net': 0.047619047619047616, 'one': 0.19047619047619047, 'strike': 0.047619047619047616, 'conversation': 0.047619047619047616, 'weather': 0.047619047619047616, 'know': 0.14285714285714285, 'next': 0.38095238095238093, 'minutes': 0.047619047619047616, 'go': 0.09523809523809523, 'try': 0.14285714285714285, 'win': 0.42857142857142855, 'match': 0.3333333333333333, 'pretty': 0.09523809523809523, 'competitive': 0.047619047619047616, 'girl': 0.047619047619047616, 'say': 0.09523809523809523, 'hellos': 0.047619047619047616, 'sending': 0.047619047619047616, 'flowers': 0.047619047619047616, 'well': 0.09523809523809523, 'uhm': 0.047619047619047616, 'friendly': 0.14285714285714285, 'close': 0.14285714285714285, 'many': 0.14285714285714285, 'lot': 0.23809523809523808, 'away': 0.14285714285714285, 'something': 0.047619047619047616, 'strategic': 0.047619047619047616, 'different': 0.19047619047619047, 'men': 0.047619047619047616, 'women': 0.047619047619047616, 'sport': 0.047619047619047616, 'mean': 0.09523809523809523, 'categorized': 0.047619047619047616, 'going': 0.09523809523809523, 'get': 0.19047619047619047, 'along': 0.09523809523809523, 'interests': 0.09523809523809523, 'completely': 0.047619047619047616, 'jobs': 0.047619047619047616, 'met': 0.047619047619047616, 'parts': 0.047619047619047616, 'life': 0.09523809523809523, 'thinks': 0.047619047619047616, 'greatest': 0.047619047619047616, 'ultimately': 0.047619047619047616, 'small': 0.047619047619047616, 'part': 0.047619047619047616, 'things': 0.09523809523809523, 'interested': 0.047619047619047616, 'basel': 0.23809523809523808, 'switzerland': 0.047619047619047616, 'ap': 0.047619047619047616, 'roger': 0.19047619047619047, 'federer': 1.0, 'advanced': 0.047619047619047616, 'th': 0.3333333333333333, 'swiss': 0.3333333333333333, 'indoors': 0.3333333333333333, 'final': 0.5238095238095238, 'career': 0.2857142857142857, 'beating': 0.23809523809523808, 'seventh': 0.047619047619047616, 'seeded': 0.14285714285714285, 'daniil': 0.047619047619047616, 'medvedev': 0.23809523809523808, 'saturday': 0.047619047619047616, 'seeking': 0.047619047619047616, 'ninth': 0.19047619047619047, 'title': 0.47619047619047616, 'hometown': 0.09523809523809523, 'event': 0.2857142857142857, 'overall': 0.047619047619047616, 'play': 0.3333333333333333, 'ranked': 0.14285714285714285, 'marius': 0.14285714285714285, 'copil': 0.2857142857142857, 'sunday': 0.14285714285714285, 'dominated': 0.047619047619047616, 'first': 0.5714285714285714, 'point': 0.19047619047619047, 'chance': 0.14285714285714285, 'break': 0.19047619047619047, 'serve': 0.3333333333333333, 'dropped': 0.09523809523809523, 'love': 0.047619047619047616, 'let': 0.09523809523809523, 'another': 0.09523809523809523, 'slip': 0.047619047619047616, 'service': 0.09523809523809523, 'game': 0.09523809523809523, 'netting': 0.047619047619047616, 'backhand': 0.047619047619047616, 'clinched': 0.047619047619047616, 'fourth': 0.047619047619047616, 'netted': 0.047619047619047616, 'baseline': 0.047619047619047616, 'upset': 0.047619047619047616, 'expectations': 0.047619047619047616, 'alexander': 0.047619047619047616, 'zverev': 0.19047619047619047, 'fifth': 0.14285714285714285, 'german': 0.047619047619047616, 'earlier': 0.09523809523809523, 'semifinal': 0.14285714285714285, 'romanian': 0.14285714285714285, 'aims': 0.047619047619047616, 'arriving': 0.047619047619047616, 'without': 0.047619047619047616, 'top': 0.09523809523809523, 'opponent': 0.09523809523809523, 'two': 0.3333333333333333, 'also': 0.19047619047619047, 'marin': 0.047619047619047616, 'cilic': 0.047619047619047616, 'second': 0.47619047619047616, 'round': 0.3333333333333333, 'fired': 0.047619047619047616, 'aces': 0.09523809523809523, 'past': 0.047619047619047616, 'never': 0.09523809523809523, 'clinching': 0.047619047619047616, 'hours': 0.047619047619047616, 'forehand': 0.047619047619047616, 'volley': 0.047619047619047616, 'winner': 0.19047619047619047, 'time': 0.42857142857142855, 'came': 0.14285714285714285, 'rounds': 0.19047619047619047, 'qualifying': 0.14285714285714285, 'last': 0.3333333333333333, 'weekend': 0.047619047619047616, 'reach': 0.047619047619047616, 'main': 0.047619047619047616, 'draw': 0.19047619047619047, 'including': 0.047619047619047616, 'older': 0.047619047619047616, 'brother': 0.047619047619047616, 'mischa': 0.047619047619047616, 'easier': 0.047619047619047616, 'previous': 0.09523809523809523, 'three': 0.19047619047619047, 'setter': 0.047619047619047616, 'shanghai': 0.09523809523809523, 'weeks': 0.2857142857142857, 'ago': 0.09523809523809523, 'revealed': 0.047619047619047616, 'organisers': 0.14285714285714285, 'launched': 0.047619047619047616, 'condensed': 0.047619047619047616, 'davis': 0.14285714285714285, 'cup': 0.23809523809523808, 'gave': 0.047619047619047616, 'days': 0.09523809523809523, 'decide': 0.09523809523809523, 'would': 0.047619047619047616, 'commit': 0.047619047619047616, 'controversial': 0.047619047619047616, 'competition': 0.09523809523809523, 'tournament': 0.23809523809523808, 'sundays': 0.047619047619047616, 'qualifier': 0.09523809523809523, 'world': 0.2857142857142857, 'number': 0.047619047619047616, 'given': 0.047619047619047616, 'impossibly': 0.047619047619047616, 'short': 0.047619047619047616, 'frame': 0.047619047619047616, 'make': 0.19047619047619047, 'decision': 0.09523809523809523, 'opted': 0.047619047619047616, 'commitment': 0.047619047619047616, 'left': 0.047619047619047616, 'consult': 0.09523809523809523, 'people': 0.14285714285714285, 'could': 0.5238095238095238, 'told': 0.047619047619047616, 'wanted': 0.047619047619047616, 'grand': 0.19047619047619047, 'slam': 0.19047619047619047, 'champion': 0.09523809523809523, 'voiced': 0.047619047619047616, 'doubts': 0.047619047619047616, 'wisdom': 0.047619047619047616, 'week': 0.38095238095238093, 'format': 0.047619047619047616, 'introduced': 0.047619047619047616, 'kosmos': 0.14285714285714285, 'promised': 0.047619047619047616, 'international': 0.047619047619047616, 'federation': 0.047619047619047616, 'billion': 0.047619047619047616, 'prize': 0.047619047619047616, 'money': 0.047619047619047616, 'quarter': 0.09523809523809523, 'century': 0.09523809523809523, 'set': 0.19047619047619047, 'feature': 0.047619047619047616, 'countries': 0.047619047619047616, 'november': 0.09523809523809523, 'finals': 0.2857142857142857, 'madrid': 0.047619047619047616, 'year': 0.3333333333333333, 'replace': 0.047619047619047616, 'classic': 0.047619047619047616, 'home': 0.09523809523809523, 'ties': 0.047619047619047616, 'played': 0.09523809523809523, 'four': 0.09523809523809523, 'times': 0.047619047619047616, 'per': 0.047619047619047616, 'decades': 0.09523809523809523, 'headed': 0.047619047619047616, 'barcelona': 0.047619047619047616, 'footballer': 0.047619047619047616, 'gerard': 0.047619047619047616, 'pique': 0.047619047619047616, 'hoping': 0.09523809523809523, 'fellow': 0.047619047619047616, 'spaniard': 0.14285714285714285, 'rafael': 0.09523809523809523, 'nadal': 0.38095238095238093, 'upcoming': 0.047619047619047616, 'novak': 0.14285714285714285, 'djokovic': 0.19047619047619047, 'give': 0.09523809523809523, 'precedence': 0.047619047619047616, 'atp': 0.38095238095238093, 'intended': 0.047619047619047616, 'launch': 0.047619047619047616, 'defunct': 0.047619047619047616, 'team': 0.14285714285714285, 'january': 0.09523809523809523, 'various': 0.047619047619047616, 'australian': 0.14285714285714285, 'venues': 0.047619047619047616, 'major': 0.09523809523809523, 'feel': 0.14285714285714285, 'big': 0.14285714285714285, 'late': 0.09523809523809523, 'combined': 0.047619047619047616, 'open': 0.19047619047619047, 'little': 0.09523809523809523, 'rest': 0.047619047619047616, 'month': 0.14285714285714285, 'chances': 0.047619047619047616, 'non': 0.047619047619047616, 'existent': 0.047619047619047616, 'highly': 0.047619047619047616, 'doubt': 0.047619047619047616, 'course': 0.09523809523809523, 'see': 0.09523809523809523, 'happens': 0.047619047619047616, 'designed': 0.09523809523809523, 'anyhow': 0.047619047619047616, 'future': 0.09523809523809523, 'generation': 0.047619047619047616, 'argentina': 0.047619047619047616, 'britain': 0.047619047619047616, 'received': 0.047619047619047616, 'wild': 0.047619047619047616, 'cards': 0.047619047619047616, 'new': 0.14285714285714285, 'look': 0.14285714285714285, 'compete': 0.047619047619047616, 'semi': 0.09523809523809523, 'finalists': 0.047619047619047616, 'teams': 0.09523809523809523, 'february': 0.14285714285714285, 'like': 0.2857142857142857, 'kind': 0.09523809523809523, 'pressure': 0.047619047619047616, 'deadline': 0.047619047619047616, 'handed': 0.09523809523809523, 'kei': 0.047619047619047616, 'nishikori': 0.2857142857142857, 'end': 0.09523809523809523, 'long': 0.09523809523809523, 'losing': 0.09523809523809523, 'streak': 0.047619047619047616, 'kevin': 0.14285714285714285, 'anderson': 0.42857142857142855, 'erste': 0.047619047619047616, 'bank': 0.047619047619047616, 'reached': 0.047619047619047616, 'third': 0.14285714285714285, 'mikhail': 0.047619047619047616, 'kukushkin': 0.09523809523809523, 'kazakhstan': 0.047619047619047616, 'semifinals': 0.047619047619047616, 'events': 0.047619047619047616, 'triumphed': 0.047619047619047616, 'since': 0.19047619047619047, 'winning': 0.14285714285714285, 'memphis': 0.047619047619047616, 'lost': 0.047619047619047616, 'eight': 0.09523809523809523, 'straight': 0.047619047619047616, 'defeated': 0.047619047619047616, 'fernando': 0.09523809523809523, 'verdasco': 0.14285714285714285, 'shot': 0.047619047619047616, 'york': 0.047619047619047616, 'leads': 0.047619047619047616, 'matchups': 0.047619047619047616, 'south': 0.09523809523809523, 'african': 0.09523809523809523, 'meeting': 0.047619047619047616, 'victory': 0.047619047619047616, 'qualify': 0.047619047619047616, 'currently': 0.047619047619047616, 'place': 0.047619047619047616, 'move': 0.047619047619047616, 'within': 0.047619047619047616, 'points': 0.23809523809523808, 'cut': 0.047619047619047616, 'man': 0.047619047619047616, 'london': 0.14285714285714285, 'held': 0.047619047619047616, 'throughout': 0.047619047619047616, 'used': 0.09523809523809523, 'wrapping': 0.047619047619047616, 'hit': 0.047619047619047616, 'nine': 0.047619047619047616, 'opening': 0.09523809523809523, 'broke': 0.09523809523809523, 'twice': 0.047619047619047616, 'gone': 0.047619047619047616, 'enjoy': 0.09523809523809523, 'glittering': 0.047619047619047616, 'chasing': 0.047619047619047616, 'faces': 0.09523809523809523, 'jan': 0.047619047619047616, 'lennard': 0.047619047619047616, 'struff': 0.047619047619047616, 'thursday': 0.047619047619047616, 'pm': 0.047619047619047616, 'bst': 0.047619047619047616, 'davenport': 0.09523809523809523, 'enjoyed': 0.047619047619047616, 'success': 0.09523809523809523, 'claims': 0.047619047619047616, 'mentality': 0.047619047619047616, 'professional': 0.047619047619047616, 'slowly': 0.047619047619047616, 'began': 0.047619047619047616, 'change': 0.047619047619047616, 'millennium': 0.047619047619047616, 'seems': 0.047619047619047616, 'right': 0.047619047619047616, 'nice': 0.047619047619047616, 'environment': 0.047619047619047616, 'great': 0.047619047619047616, 'atmosphere': 0.09523809523809523, 'especially': 0.047619047619047616, 'veteran': 0.047619047619047616, 'helping': 0.047619047619047616, 'younger': 0.047619047619047616, 'pleasant': 0.047619047619047616, 'around': 0.047619047619047616, 'rooms': 0.047619047619047616, 'felt': 0.14285714285714285, 'best': 0.09523809523809523, 'fed': 0.047619047619047616, 'olympic': 0.047619047619047616, 'necessarily': 0.047619047619047616, 'tournaments': 0.047619047619047616, 'even': 0.09523809523809523, 'though': 0.09523809523809523, 'maybe': 0.19047619047619047, 'smaller': 0.047619047619047616, 'still': 0.09523809523809523, 'kept': 0.047619047619047616, 'quite': 0.047619047619047616, 'bit': 0.09523809523809523, 'always': 0.14285714285714285, 'mid': 0.047619047619047616, 'years': 0.047619047619047616, 'huge': 0.09523809523809523, 'shift': 0.047619047619047616, 'attitudes': 0.047619047619047616, 'giving': 0.047619047619047616, 'coming': 0.047619047619047616, 'changed': 0.047619047619047616, 'definitely': 0.047619047619047616, 'quiet': 0.047619047619047616, 'started': 0.047619047619047616, 'become': 0.047619047619047616, 'better': 0.14285714285714285, 'meanwhile': 0.047619047619047616, 'improve': 0.047619047619047616, 'hunts': 0.047619047619047616, 'filip': 0.09523809523809523, 'kranjovic': 0.047619047619047616, 'misfiring': 0.047619047619047616, 'corners': 0.047619047619047616, 'hitting': 0.047619047619047616, 'lines': 0.047619047619047616, 'enough': 0.047619047619047616, 'clearly': 0.047619047619047616, 'difficult': 0.09523809523809523, 'ended': 0.047619047619047616, 'quickly': 0.047619047619047616, 'today': 0.09523809523809523, 'percentage': 0.047619047619047616, 'stats': 0.047619047619047616, 'exactly': 0.047619047619047616, 'caught': 0.047619047619047616, 'eventually': 0.047619047619047616, 'getting': 0.047619047619047616, 'tricky': 0.047619047619047616, 'forced': 0.09523809523809523, 'retire': 0.047619047619047616, 'us': 0.047619047619047616, 'juan': 0.047619047619047616, 'martin': 0.047619047619047616, 'del': 0.047619047619047616, 'porto': 0.047619047619047616, 'knee': 0.047619047619047616, 'injury': 0.09523809523809523, 'miss': 0.047619047619047616, 'spain': 0.047619047619047616, 'clash': 0.047619047619047616, 'france': 0.047619047619047616, 'asian': 0.047619047619047616, 'hard': 0.047619047619047616, 'season': 0.19047619047619047, 'due': 0.047619047619047616, 'begin': 0.047619047619047616, 'ready': 0.09523809523809523, 'prove': 0.047619047619047616, 'fitness': 0.047619047619047616, 'ending': 0.047619047619047616, 'arena': 0.047619047619047616, 'flew': 0.047619047619047616, 'paris': 0.42857142857142855, 'friday': 0.047619047619047616, 'footage': 0.047619047619047616, 'masters': 0.14285714285714285, 'official': 0.047619047619047616, 'twitter': 0.047619047619047616, 'account': 0.047619047619047616, 'shows': 0.047619047619047616, 'smiling': 0.047619047619047616, 'strides': 0.047619047619047616, 'onto': 0.047619047619047616, 'practice': 0.047619047619047616, 'made': 0.047619047619047616, 'start': 0.047619047619047616, 'campaign': 0.047619047619047616, 'tuesday': 0.09523809523809523, 'wednesday': 0.09523809523809523, 'either': 0.23809523809523808, 'jeremy': 0.047619047619047616, 'chardy': 0.047619047619047616, 'defending': 0.14285714285714285, 'jack': 0.09523809523809523, 'sock': 0.09523809523809523, 'potential': 0.047619047619047616, 'borna': 0.047619047619047616, 'coric': 0.047619047619047616, 'dominic': 0.047619047619047616, 'thiem': 0.047619047619047616, 'appearance': 0.047619047619047616, 'boost': 0.047619047619047616, 'withdraw': 0.047619047619047616, 'action': 0.047619047619047616, 'reaches': 0.047619047619047616, 'pull': 0.047619047619047616, 'bid': 0.047619047619047616, 'stay': 0.047619047619047616, 'fresh': 0.047619047619047616, 'stands': 0.047619047619047616, 'scheduled': 0.047619047619047616, 'face': 0.047619047619047616, 'former': 0.047619047619047616, 'milos': 0.09523809523809523, 'raonic': 0.09523809523809523, 'jo': 0.09523809523809523, 'wilfried': 0.09523809523809523, 'tsonga': 0.09523809523809523, 'projected': 0.047619047619047616, 'route': 0.047619047619047616, 'lead': 0.047619047619047616, 'matches': 0.14285714285714285, 'marco': 0.047619047619047616, 'cecchinato': 0.047619047619047616, 'british': 0.047619047619047616, 'kyle': 0.09523809523809523, 'edmund': 0.09523809523809523, 'seed': 0.047619047619047616, 'underway': 0.047619047619047616, 'karen': 0.047619047619047616, 'khachanov': 0.047619047619047616, 'krajinovic': 0.047619047619047616, 'giveth': 0.047619047619047616, 'taketh': 0.047619047619047616, 'finally': 0.047619047619047616, 'sight': 0.047619047619047616, 'chunks': 0.047619047619047616, 'singapore': 0.09523809523809523, 'zhuhai': 0.047619047619047616, 'podcast': 0.047619047619047616, 'co': 0.047619047619047616, 'hosts': 0.047619047619047616, 'nina': 0.09523809523809523, 'pantic': 0.047619047619047616, 'irina': 0.14285714285714285, 'falconi': 0.047619047619047616, 'discuss': 0.047619047619047616, 'art': 0.047619047619047616, 'secret': 0.047619047619047616, 'struggled': 0.047619047619047616, 'singles': 0.047619047619047616, 'record': 0.047619047619047616, 'lose': 0.047619047619047616, 'instead': 0.047619047619047616, 'focusing': 0.047619047619047616, 'negative': 0.047619047619047616, 'perspective': 0.047619047619047616, 'forget': 0.09523809523809523, 'doubles': 0.047619047619047616, 'triumphs': 0.047619047619047616, 'stefanos': 0.047619047619047616, 'tsitsipas': 0.047619047619047616, 'titles': 0.047619047619047616, 'deal': 0.047619047619047616, 'looks': 0.047619047619047616, 'back': 0.047619047619047616, 'bogota': 0.047619047619047616, 'tells': 0.047619047619047616, 'unforgettable': 0.047619047619047616, 'story': 0.047619047619047616, 'drama': 0.047619047619047616, 'biggest': 0.047619047619047616, 'storylines': 0.047619047619047616, 'aside': 0.047619047619047616, 'coaching': 0.09523809523809523, 'debate': 0.047619047619047616, 'opinions': 0.047619047619047616, 'tours': 0.047619047619047616, 'old': 0.047619047619047616, 'claimed': 0.047619047619047616, 'hunting': 0.047619047619047616, 'french': 0.047619047619047616, 'capital': 0.047619047619047616, 'come': 0.047619047619047616, 'latter': 0.047619047619047616, 'wants': 0.047619047619047616, 'train': 0.14285714285714285, 'afternoon': 0.09523809523809523, 'deciding': 0.047619047619047616, 'appear': 0.047619047619047616, 'monday': 0.047619047619047616, 'free': 0.047619047619047616, 'fly': 0.047619047619047616, 'night': 0.047619047619047616, 'good': 0.047619047619047616, 'day': 0.047619047619047616, 'impression': 0.047619047619047616, 'stage': 0.047619047619047616, 'might': 0.047619047619047616, 'fear': 0.047619047619047616, 'delighted': 0.047619047619047616, 'watched': 0.047619047619047616, 'family': 0.047619047619047616, 'purchased': 0.047619047619047616, 'tickets': 0.047619047619047616, 'dearest': 0.047619047619047616, 'children': 0.09523809523809523, 'parents': 0.047619047619047616, 'sister': 0.047619047619047616, 'added': 0.047619047619047616, 'emotional': 0.047619047619047616, 'thank': 0.047619047619047616, 'sometimes': 0.09523809523809523, 'tilts': 0.047619047619047616, 'emotions': 0.047619047619047616, 'stumble': 0.047619047619047616, 'means': 0.047619047619047616, 'makes': 0.047619047619047616, 'incredibly': 0.047619047619047616, 'happy': 0.09523809523809523, 'absorb': 0.047619047619047616, 'moments': 0.09523809523809523, 'consciously': 0.047619047619047616, 'celebrate': 0.047619047619047616, 'touching': 0.047619047619047616, 'seeing': 0.047619047619047616, 'ball': 0.047619047619047616, 'standing': 0.047619047619047616, 'ovations': 0.047619047619047616, 'familiar': 0.047619047619047616, 'audience': 0.047619047619047616, 'easy': 0.047619047619047616}\n"
          ]
        }
      ],
      "source": [
        "max_freq = max(word_frequencies.values())\n",
        "\n",
        "for w in word_frequencies :\n",
        "      word_frequencies[w]/=max_freq\n",
        "\n",
        "print(word_frequencies)"
      ]
    },
    {
      "cell_type": "markdown",
      "metadata": {
        "id": "fIQD-aoWIRuh"
      },
      "source": [
        "### Calculating sentence scores from the word frequncies"
      ]
    },
    {
      "cell_type": "code",
      "execution_count": 8,
      "metadata": {
        "id": "C5cka5sDIRui"
      },
      "outputs": [],
      "source": [
        "sentence_scores = {}\n",
        "for sent in sentences:\n",
        "    for word in nltk.word_tokenize(sent.lower()):\n",
        "        if word in word_frequencies.keys():\n",
        "            if len(sent.split(' ')) < 30:\n",
        "                if sent not in sentence_scores.keys():\n",
        "                    sentence_scores[sent] = word_frequencies[word]\n",
        "                else:\n",
        "                    sentence_scores[sent] += word_frequencies[word]"
      ]
    },
    {
      "cell_type": "markdown",
      "metadata": {
        "id": "IxS5R7okIRuk"
      },
      "source": [
        "## STEP 3 : Summary Generation\n",
        "### Outputting the top 17 sentences as the summary"
      ]
    },
    {
      "cell_type": "code",
      "execution_count": 9,
      "metadata": {
        "id": "xEJ3V4XrIRum"
      },
      "outputs": [],
      "source": [
        "import heapq\n",
        "summary_sentences = heapq.nlargest(17, sentence_scores, key=sentence_scores.get)\n",
        "summary = ' '.join(summary_sentences)"
      ]
    },
    {
      "cell_type": "code",
      "execution_count": 10,
      "metadata": {
        "colab": {
          "base_uri": "https://localhost:8080/"
        },
        "id": "_FCCRTXZIRuo",
        "outputId": "42004d82-ccf9-4d56-c3a6-e46dcad00e08"
      },
      "outputs": [
        {
          "output_type": "execute_result",
          "data": {
            "text/plain": [
              "['Federer has been handed a difficult draw where could could come across Kevin Anderson, Novak Djokovic and Rafael Nadal in the latter rounds.',\n",
              " 'He used his first break point to close out the first set before going up 3-0 in the second and wrapping up the win on his first match point.',\n",
              " \"Federer's projected route to the Paris final could also lead to matches against Kevin Anderson and Novak Djokovic.\",\n",
              " 'Two players, Stefanos Tsitsipas and Kyle Edmund, won their first career ATP titles last week (13:26).',\n",
              " \"'BASEL, Switzerland (AP), Roger Federer advanced to the 14th Swiss Indoors final of his career by beating seventh-seeded Daniil Medvedev 6-1, 6-4 on Saturday.\",\n",
              " \"Nadal's appearance in Paris is a big boost to the tournament organisers who could see Roger Federer withdraw.\",\n",
              " 'Major players feel that a big event in late November combined with one in January before the Australian Open will mean too much tennis and too little rest.',\n",
              " 'Meanwhile, Federer is hoping he can improve his service game as he hunts his ninth Swiss Indoors title this week.',\n",
              " 'Seeking a ninth title at his hometown event, and a 99th overall, Federer will play 93th-ranked Marius Copil on Sunday.',\n",
              " 'But as it stands, Federer is in the draw and is scheduled to face either former world No 3 Milos Raonic or Jo-Wilfried Tsonga in the second round.',\n",
              " \"Federer's success in Basel last week was the ninth time he has won his hometown tournament.\",\n",
              " 'Currently in ninth place, Nishikori with a win could move to within 125 points of the cut for the eight-man event in London next month.',\n",
              " 'Copil upset expectations of a Federer final against Alexander Zverev in a 6-3, 6-7 (6), 6-4 win over the fifth-ranked German in the earlier semifinal.',\n",
              " '\"On Monday, I am free and will look how I feel,\" Federer said after winning the Swiss Indoors.',\n",
              " 'But with the ATP World Tour Finals due to begin next month, Nadal is ready to prove his fitness before the season-ending event at the 02 Arena.',\n",
              " 'Anderson has a shot at a fifth career title and second of the year after winning in New York in February.',\n",
              " '\"I think there is a really nice environment and a great atmosphere, especially between some of the veteran players helping some of the younger players out.']"
            ]
          },
          "metadata": {},
          "execution_count": 10
        }
      ],
      "source": [
        "summary_sentences"
      ]
    },
    {
      "cell_type": "code",
      "execution_count": 11,
      "metadata": {
        "colab": {
          "base_uri": "https://localhost:8080/",
          "height": 174
        },
        "id": "-rcgSGzoIRur",
        "outputId": "a9339faa-ba38-4592-d1bd-6037de0c599f"
      },
      "outputs": [
        {
          "output_type": "execute_result",
          "data": {
            "text/plain": [
              "'Federer has been handed a difficult draw where could could come across Kevin Anderson, Novak Djokovic and Rafael Nadal in the latter rounds. He used his first break point to close out the first set before going up 3-0 in the second and wrapping up the win on his first match point. Federer\\'s projected route to the Paris final could also lead to matches against Kevin Anderson and Novak Djokovic. Two players, Stefanos Tsitsipas and Kyle Edmund, won their first career ATP titles last week (13:26). \\'BASEL, Switzerland (AP), Roger Federer advanced to the 14th Swiss Indoors final of his career by beating seventh-seeded Daniil Medvedev 6-1, 6-4 on Saturday. Nadal\\'s appearance in Paris is a big boost to the tournament organisers who could see Roger Federer withdraw. Major players feel that a big event in late November combined with one in January before the Australian Open will mean too much tennis and too little rest. Meanwhile, Federer is hoping he can improve his service game as he hunts his ninth Swiss Indoors title this week. Seeking a ninth title at his hometown event, and a 99th overall, Federer will play 93th-ranked Marius Copil on Sunday. But as it stands, Federer is in the draw and is scheduled to face either former world No 3 Milos Raonic or Jo-Wilfried Tsonga in the second round. Federer\\'s success in Basel last week was the ninth time he has won his hometown tournament. Currently in ninth place, Nishikori with a win could move to within 125 points of the cut for the eight-man event in London next month. Copil upset expectations of a Federer final against Alexander Zverev in a 6-3, 6-7 (6), 6-4 win over the fifth-ranked German in the earlier semifinal. \"On Monday, I am free and will look how I feel,\" Federer said after winning the Swiss Indoors. But with the ATP World Tour Finals due to begin next month, Nadal is ready to prove his fitness before the season-ending event at the 02 Arena. Anderson has a shot at a fifth career title and second of the year after winning in New York in February. \"I think there is a really nice environment and a great atmosphere, especially between some of the veteran players helping some of the younger players out.'"
            ],
            "application/vnd.google.colaboratory.intrinsic+json": {
              "type": "string"
            }
          },
          "metadata": {},
          "execution_count": 11
        }
      ],
      "source": [
        "summary"
      ]
    },
    {
      "cell_type": "code",
      "execution_count": 12,
      "metadata": {
        "colab": {
          "base_uri": "https://localhost:8080/"
        },
        "id": "YfsolX6HIRuv",
        "outputId": "12c91e1c-a831-47e9-db47-7f0e71d9104d"
      },
      "outputs": [
        {
          "output_type": "execute_result",
          "data": {
            "text/plain": [
              "2183"
            ]
          },
          "metadata": {},
          "execution_count": 12
        }
      ],
      "source": [
        "len(summary)"
      ]
    },
    {
      "cell_type": "code",
      "execution_count": 12,
      "metadata": {
        "id": "W0iz2mUhIRuy"
      },
      "outputs": [],
      "source": []
    }
  ],
  "metadata": {
    "kernelspec": {
      "display_name": "Python 3 (ipykernel)",
      "language": "python",
      "name": "python3"
    },
    "language_info": {
      "codemirror_mode": {
        "name": "ipython",
        "version": 3
      },
      "file_extension": ".py",
      "mimetype": "text/x-python",
      "name": "python",
      "nbconvert_exporter": "python",
      "pygments_lexer": "ipython3",
      "version": "3.9.5"
    },
    "colab": {
      "provenance": []
    }
  },
  "nbformat": 4,
  "nbformat_minor": 0
}